{
 "cells": [
  {
   "cell_type": "markdown",
   "metadata": {},
   "source": [
    "# EJERCICIOS Selenium"
   ]
  },
  {
   "cell_type": "markdown",
   "metadata": {},
   "source": [
    "Escribe un script en Python utilizando Selenium que realice las siguientes tareas en la página web del Decathlon:\n",
    "\n",
    "1. Abra una el navegador y maximice la ventana.\n",
    "\n",
    "2. Acceda al sitio web de Decathlon en la URL \"https://www.decathlon.es/\".\n",
    "\n",
    "3. Haga clic en el botón \"Aceptar\" en la notificación de cookies utilizando su selector CSS.\n",
    "\n",
    "4. Solicite al usuario que ingrese una búsqueda (por ejemplo, un producto deportivo) mediante una entrada de texto.\n",
    "\n",
    "5. Utilice el texto ingresado para buscar productos en el sitio web de Decathlon y presione la tecla \"Enter\" para iniciar la búsqueda.\n",
    "\n",
    "6. Inicialice un diccionario llamado `diccionario_resultados` con tres listas vacías: \"nombre\", \"precio\" y \"puntuación\".\n",
    "\n",
    "7. Itere sobre los primeros 5 resultados de la búsqueda y realice las siguientes acciones:\n",
    "\n",
    "    a. Haga clic en un resultado específico.\n",
    "    b. Recopile el nombre del producto, el precio y la puntuación del producto y almacénelos en las listas correspondientes en el diccionario `diccionario_resultados`.\n",
    "\n",
    "    c. Navegue de regreso a los resultados de búsqueda.\n",
    "\n",
    "8. Cierre el navegador Chrome.\n",
    "\n",
    "El resultado final debería ser un diccionario con información sobre los primeros 5 productos encontrados durante la búsqueda en el sitio web de Decathlon, incluyendo el nombre del producto, el precio y la puntuación. Muestralo en un DataFrame similar al ves a continuación: \n",
    "\n",
    "| nombre                                             | precio    | puntuacion |\n",
    "|----------------------------------------------------|-----------|------------|\n",
    "| Camiseta Real Madrid Local Adulto Temporada 23/24  | 99,99 €   | 5/5        |\n",
    "| Camiseta térmica interior de esquí y nieve Muj... | 6,99 €    | 4.7/5      |\n",
    "| Camiseta running térmica transpirable Mujer Ki... | 19,99 €   | 4.8/5      |\n",
    "| Camiseta térmica running Mujer negra              | 14,99 €   | 4.7/5      |\n",
    "| Camiseta de fútbol Adulto Kipsta F100 roja         | 5,99 €    | 4.5/5      |\n"
   ]
  },
  {
   "cell_type": "code",
   "execution_count": 1,
   "metadata": {},
   "outputs": [],
   "source": [
    "# Importar librerías para tratamiento de datos\n",
    "# -----------------------------------------------------------------------\n",
    "import pandas as pd  # Pandas es una poderosa librería para manipulación y análisis de datos en Python.\n",
    "\n",
    "# Importar librerías para web scraping y manipulación de datos\n",
    "# -----------------------------------------------------------------------\n",
    "from bs4 import BeautifulSoup\n",
    "import requests\n",
    "\n",
    "# Importar librerías para automatización de navegadores web con Selenium\n",
    "# -----------------------------------------------------------------------\n",
    "from selenium import webdriver  # Selenium es una herramienta para automatizar la interacción con navegadores web.\n",
    "from webdriver_manager.chrome import ChromeDriverManager  # ChromeDriverManager gestiona la instalación del controlador de Chrome.\n",
    "from selenium.webdriver.common.keys import Keys  # Keys es útil para simular eventos de teclado en Selenium.\n",
    "from selenium.webdriver.support.ui import Select  # Select se utiliza para interactuar con elementos <select> en páginas web.\n",
    "\n",
    "# Importar librerías para pausar la ejecución\n",
    "# -----------------------------------------------------------------------\n",
    "from time import sleep  # Sleep se utiliza para pausar la ejecución del programa por un número de segundos.\n",
    "\n",
    "# Configuraciones\n",
    "# -----------------------------------------------------------------------\n",
    "pd.set_option('display.max_columns', None)  # Establece una opción de Pandas para mostrar todas las columnas de un DataFrame."
   ]
  },
  {
   "cell_type": "code",
   "execution_count": 14,
   "metadata": {},
   "outputs": [],
   "source": [
    "def buscar_productos_decathlon():\n",
    "    \"\"\"\n",
    "    Realiza una búsqueda de productos en el sitio web de Decathlon y recopila información sobre los primeros 5 resultados.\n",
    "\n",
    "    Returns:\n",
    "    dict: Un diccionario con información sobre los productos encontrados, incluyendo nombres, precios y puntuaciones.\n",
    "    \"\"\"\n",
    "    \n",
    "    # Inicializar el controlador de Chrome\n",
    "    driver = webdriver.Chrome()\n",
    "\n",
    "    # Maximizar la ventana del navegador\n",
    "    driver.maximize_window()\n",
    "\n",
    "    # Acceder al sitio web de Decathlon\n",
    "    driver.get(\"https://www.decathlon.es/\")\n",
    "\n",
    "    # Esperar 3 segundos para cargar la página\n",
    "    sleep(3)\n",
    "\n",
    "    # Hacer clic en el botón de aceptar las cookies utilizando su selector CSS\n",
    "    driver.find_element(\"css selector\", \"#didomi-notice-agree-button\").click()\n",
    "\n",
    "    # Solicitar al usuario que ingrese qué producto desea buscar\n",
    "    eleccion_usuario = input(\"¿Qué quieres buscar?\")\n",
    "\n",
    "    # Esperar 2 segundos para dar tiempo al usuario a ingresar su elección\n",
    "    sleep(2)\n",
    "\n",
    "    # Utilizar la entrada de texto para buscar productos y presionar la tecla \"Enter\"\n",
    "    driver.find_element(\"css selector\", \"#search-bar > div > form > div > input\").send_keys(eleccion_usuario, Keys.ENTER)\n",
    "\n",
    "    # Esperar 2 segundos para que se muestren los resultados de la búsqueda\n",
    "    sleep(2)\n",
    "\n",
    "    # Inicializar un diccionario para almacenar los resultados\n",
    "    diccionario_resultados = {\"nombre\": [], \"precio\": [], \"puntuacion\": []}\n",
    "    \n",
    "    # Iterar sobre los primeros 5 resultados de búsqueda\n",
    "    for i in range(1, 5):\n",
    "        \n",
    "        # Hacer clic en un resultado específico\n",
    "        \n",
    "        driver.find_element(\"css selector\", f\"#app > main > div.list-body.svelte-duar7s > section.listing-section.svelte-duar7s > div > div:nth-child({i}) > div.product-block-top-main.vtmn-relative.vtmn-flex.vtmn-flex-col.vtmn-w-full.vtmn-items-start > div.dpb-models.vtmn-relative.vtmn-self-center.svelte-1ambt2m > div > a > img\").click()\n",
    "\n",
    "        sleep(3)\n",
    "\n",
    "        # Recopilar el nombre del producto\n",
    "        nombre = driver.find_element(\"css selector\", \"#app > main > article > div.vtmn-relative.vtmn-z-\\[2\\] > section > h1\").text\n",
    "        diccionario_resultados[\"nombre\"].append(nombre)\n",
    "\n",
    "        # Recopilar el precio del producto\n",
    "        precio = driver.find_element(\"css selector\",\"#app > main > article > div.vtmn-relative.vtmn-z-\\[2\\] > section > div.price-presentation.vtmn-flex.vtmn-flex-col.vtmn-items-start.vtmn-leading-tight.vtmn-mt-2.svelte-1wujduz > div > div > div > span\").text\n",
    "        diccionario_resultados[\"precio\"].append(precio)\n",
    "\n",
    "        # Recopilar la puntuación del producto\n",
    "        puntuacion = driver.find_element(\"xpath\", '//*[@id=\"app\"]/main/article/div[2]/section/div[2]/button/div[1]/span[6]').text\n",
    "        diccionario_resultados[\"puntuacion\"].append(puntuacion)\n",
    "\n",
    "        sleep(3)\n",
    "        \n",
    "        # Navegar de regreso a los resultados de búsqueda\n",
    "        driver.back()\n",
    "\n",
    "    # Cerrar el navegador\n",
    "    driver.close()\n",
    "\n",
    "    # Retornar el diccionario con los resultados\n",
    "    return diccionario_resultados"
   ]
  },
  {
   "cell_type": "code",
   "execution_count": 15,
   "metadata": {},
   "outputs": [
    {
     "data": {
      "text/plain": [
       "{'nombre': ['Camiseta Fitness 100 Sportee Hombre Negra',\n",
       "  'Camiseta fitness 500 essential Domyos Mujer azul índigo',\n",
       "  'Camiseta fitness manga corta transpirable cuello redondo Hombre Domyos azul',\n",
       "  'Camiseta Active Fitness Puma Hombre Negro Manga Corta Algodón'],\n",
       " 'precio': ['4,99€', '5,99€', '5,99€', '13,99€'],\n",
       " 'puntuacion': ['4.5/5', '4.6/5', '4.7/5', '4.8/5']}"
      ]
     },
     "execution_count": 15,
     "metadata": {},
     "output_type": "execute_result"
    }
   ],
   "source": [
    "# Ejemplo de uso:\n",
    "resultados = buscar_productos_decathlon()\n",
    "resultados"
   ]
  },
  {
   "cell_type": "code",
   "execution_count": 16,
   "metadata": {},
   "outputs": [
    {
     "data": {
      "text/html": [
       "<div>\n",
       "<style scoped>\n",
       "    .dataframe tbody tr th:only-of-type {\n",
       "        vertical-align: middle;\n",
       "    }\n",
       "\n",
       "    .dataframe tbody tr th {\n",
       "        vertical-align: top;\n",
       "    }\n",
       "\n",
       "    .dataframe thead th {\n",
       "        text-align: right;\n",
       "    }\n",
       "</style>\n",
       "<table border=\"1\" class=\"dataframe\">\n",
       "  <thead>\n",
       "    <tr style=\"text-align: right;\">\n",
       "      <th></th>\n",
       "      <th>nombre</th>\n",
       "      <th>precio</th>\n",
       "      <th>puntuacion</th>\n",
       "    </tr>\n",
       "  </thead>\n",
       "  <tbody>\n",
       "    <tr>\n",
       "      <th>0</th>\n",
       "      <td>Camiseta Fitness 100 Sportee Hombre Negra</td>\n",
       "      <td>4,99€</td>\n",
       "      <td>4.5/5</td>\n",
       "    </tr>\n",
       "    <tr>\n",
       "      <th>1</th>\n",
       "      <td>Camiseta fitness 500 essential Domyos Mujer az...</td>\n",
       "      <td>5,99€</td>\n",
       "      <td>4.6/5</td>\n",
       "    </tr>\n",
       "    <tr>\n",
       "      <th>2</th>\n",
       "      <td>Camiseta fitness manga corta transpirable cuel...</td>\n",
       "      <td>5,99€</td>\n",
       "      <td>4.7/5</td>\n",
       "    </tr>\n",
       "    <tr>\n",
       "      <th>3</th>\n",
       "      <td>Camiseta Active Fitness Puma Hombre Negro Mang...</td>\n",
       "      <td>13,99€</td>\n",
       "      <td>4.8/5</td>\n",
       "    </tr>\n",
       "  </tbody>\n",
       "</table>\n",
       "</div>"
      ],
      "text/plain": [
       "                                              nombre  precio puntuacion\n",
       "0          Camiseta Fitness 100 Sportee Hombre Negra   4,99€      4.5/5\n",
       "1  Camiseta fitness 500 essential Domyos Mujer az...   5,99€      4.6/5\n",
       "2  Camiseta fitness manga corta transpirable cuel...   5,99€      4.7/5\n",
       "3  Camiseta Active Fitness Puma Hombre Negro Mang...  13,99€      4.8/5"
      ]
     },
     "execution_count": 16,
     "metadata": {},
     "output_type": "execute_result"
    }
   ],
   "source": [
    "# convertir a DataFrame\n",
    "df_productos = pd.DataFrame(resultados)\n",
    "df_productos"
   ]
  },
  {
   "cell_type": "code",
   "execution_count": 17,
   "metadata": {},
   "outputs": [
    {
     "data": {
      "text/plain": [
       "{'nombres': ['Manzanas Golden, bandeja 1 Kg aprox.',\n",
       "  'Plátanos de Canarias, mano 1 Kg aprox.',\n",
       "  'Tomates pera, bandeja 1 Kg aprox.',\n",
       "  'Naranjas de mesa, malla 2 Kg aprox.',\n",
       "  'Cebollas dulces, malla 1.5 Kg aprox.'],\n",
       " 'precios': ['2.49 €', '2.89 €', '2.35 €', '3.49 €', '1.99 €']}"
      ]
     },
     "execution_count": 17,
     "metadata": {},
     "output_type": "execute_result"
    }
   ],
   "source": [
    "driver = webdriver.Chrome()\n",
    "driver.get(\"https://beta.adalab.es/online_supermarket/\")\n",
    "driver.maximize_window()\n",
    "driver.find_element(\"css selector\", \"body > div.__variable_a6519f > div > div > button.CookieConsent_acceptButton__Mb_bR.CookieConsent_acceptAllButton__yhaaI\").click()\n",
    "sleep(3)\n",
    "driver.find_element(\"css selector\", \".HamburgerMenu_hamburgerMenu__fcrHL\").click()\n",
    "sleep(3)\n",
    "link = driver.find_element(\"xpath\", \"/html/body/div/header/div/div[2]/ul/li[2]/a\")\n",
    "link.click()\n",
    "sleep(5)\n",
    "diccionario_fruta = {\"nombres\": [], \"precios\": []}\n",
    "for i in range (1, 6):\n",
    "                nombre = driver.find_element(\"css selector\", f\"body > main > div > div:nth-child({i}) > div.ProductCard_details__ElEDC > h3\").text\n",
    "                diccionario_fruta[\"nombres\"].append(nombre)\n",
    "                precio = driver.find_element(\"css selector\", f\"body > main > div > div:nth-child({i}) > div.ProductCard_details__ElEDC > p > span:nth-child(1)\").text\n",
    "                diccionario_fruta[\"precios\"].append(precio)\n",
    "diccionario_fruta\n"
   ]
  },
  {
   "cell_type": "code",
   "execution_count": 18,
   "metadata": {},
   "outputs": [
    {
     "data": {
      "text/plain": [
       "{'nombres': ['Manzanas Golden, bandeja 1 Kg aprox.',\n",
       "  'Plátanos de Canarias, mano 1 Kg aprox.',\n",
       "  'Tomates pera, bandeja 1 Kg aprox.',\n",
       "  'Naranjas de mesa, malla 2 Kg aprox.',\n",
       "  'Cebollas dulces, malla 1.5 Kg aprox.'],\n",
       " 'precios': ['2.49 €', '2.89 €', '2.35 €', '3.49 €', '1.99 €']}"
      ]
     },
     "execution_count": 18,
     "metadata": {},
     "output_type": "execute_result"
    }
   ],
   "source": [
    "diccionario_fruta"
   ]
  },
  {
   "cell_type": "code",
   "execution_count": 19,
   "metadata": {},
   "outputs": [
    {
     "data": {
      "text/html": [
       "<div>\n",
       "<style scoped>\n",
       "    .dataframe tbody tr th:only-of-type {\n",
       "        vertical-align: middle;\n",
       "    }\n",
       "\n",
       "    .dataframe tbody tr th {\n",
       "        vertical-align: top;\n",
       "    }\n",
       "\n",
       "    .dataframe thead th {\n",
       "        text-align: right;\n",
       "    }\n",
       "</style>\n",
       "<table border=\"1\" class=\"dataframe\">\n",
       "  <thead>\n",
       "    <tr style=\"text-align: right;\">\n",
       "      <th></th>\n",
       "      <th>nombres</th>\n",
       "      <th>precios</th>\n",
       "    </tr>\n",
       "  </thead>\n",
       "  <tbody>\n",
       "    <tr>\n",
       "      <th>0</th>\n",
       "      <td>Manzanas Golden, bandeja 1 Kg aprox.</td>\n",
       "      <td>2.49 €</td>\n",
       "    </tr>\n",
       "    <tr>\n",
       "      <th>1</th>\n",
       "      <td>Plátanos de Canarias, mano 1 Kg aprox.</td>\n",
       "      <td>2.89 €</td>\n",
       "    </tr>\n",
       "    <tr>\n",
       "      <th>2</th>\n",
       "      <td>Tomates pera, bandeja 1 Kg aprox.</td>\n",
       "      <td>2.35 €</td>\n",
       "    </tr>\n",
       "    <tr>\n",
       "      <th>3</th>\n",
       "      <td>Naranjas de mesa, malla 2 Kg aprox.</td>\n",
       "      <td>3.49 €</td>\n",
       "    </tr>\n",
       "    <tr>\n",
       "      <th>4</th>\n",
       "      <td>Cebollas dulces, malla 1.5 Kg aprox.</td>\n",
       "      <td>1.99 €</td>\n",
       "    </tr>\n",
       "  </tbody>\n",
       "</table>\n",
       "</div>"
      ],
      "text/plain": [
       "                                  nombres precios\n",
       "0    Manzanas Golden, bandeja 1 Kg aprox.  2.49 €\n",
       "1  Plátanos de Canarias, mano 1 Kg aprox.  2.89 €\n",
       "2       Tomates pera, bandeja 1 Kg aprox.  2.35 €\n",
       "3     Naranjas de mesa, malla 2 Kg aprox.  3.49 €\n",
       "4    Cebollas dulces, malla 1.5 Kg aprox.  1.99 €"
      ]
     },
     "execution_count": 19,
     "metadata": {},
     "output_type": "execute_result"
    }
   ],
   "source": [
    "df_frutas = pd.DataFrame(diccionario_fruta)\n",
    "df_frutas"
   ]
  }
 ],
 "metadata": {
  "kernelspec": {
   "display_name": "base",
   "language": "python",
   "name": "python3"
  },
  "language_info": {
   "codemirror_mode": {
    "name": "ipython",
    "version": 3
   },
   "file_extension": ".py",
   "mimetype": "text/x-python",
   "name": "python",
   "nbconvert_exporter": "python",
   "pygments_lexer": "ipython3",
   "version": "3.9.7"
  }
 },
 "nbformat": 4,
 "nbformat_minor": 2
}
