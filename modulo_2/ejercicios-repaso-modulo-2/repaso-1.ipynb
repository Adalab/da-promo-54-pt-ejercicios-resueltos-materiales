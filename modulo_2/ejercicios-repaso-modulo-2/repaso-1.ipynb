{
 "cells": [
  {
   "cell_type": "markdown",
   "id": "93fb0f22",
   "metadata": {},
   "source": [
    "## Inserta más datos\n",
    "En este apartado vamos a insertar más datos en la tabla de alumnos. Pero en este caso, los datos los vamos a obtener de un API, que devuelve un listado de alumnos."
   ]
  },
  {
   "cell_type": "code",
   "execution_count": 8,
   "id": "213fc47d",
   "metadata": {},
   "outputs": [],
   "source": [
    "import requests\n",
    "import mysql.connector\n",
    "from mysql.connector import errorcode"
   ]
  },
  {
   "cell_type": "code",
   "execution_count": 9,
   "id": "9a6e2a33",
   "metadata": {},
   "outputs": [],
   "source": [
    "url = 'https://beta.adalab.es/curso-intensivo-fullstack-recursos/apis/alumnos-v1/alumnos.json'\n",
    "\n",
    "llamada = requests.get(url)\n",
    "\n",
    "alumnos = llamada.json()"
   ]
  },
  {
   "cell_type": "code",
   "execution_count": 15,
   "id": "c0a046b1",
   "metadata": {},
   "outputs": [],
   "source": [
    "datos_alumnos = []\n",
    "\n",
    "for alumno in alumnos['results']:\n",
    "    datos_alumnos.append((alumno['num_expediente'], alumno['nombre'], alumno['apellidos'], alumno['fecha_nacimiento']))\n",
    "\n",
    "datos_alumnos = datos_alumnos[5:] # los 5 primeros registros ya se han metido, así que los ignoramos"
   ]
  },
  {
   "cell_type": "code",
   "execution_count": 11,
   "id": "704b3451",
   "metadata": {},
   "outputs": [
    {
     "name": "stdout",
     "output_type": "stream",
     "text": [
      "Conexión realizada con éxito\n"
     ]
    }
   ],
   "source": [
    "# conexion a bbdd\n",
    "\n",
    "configuracion = {'user':'root', 'password': 'AlumnaAdalab', 'host':'127.0.0.1', 'auth_plugin' : 'mysql_native_password', 'database': 'Instituto'}\n",
    "    # Para tener todos los datos de acceso a mi servidor lo guardo en un diccionario llamada configuración, \n",
    "try:\n",
    "    cnx = mysql.connector.connect(**configuracion) # paso kwargs, por ello pongo doble asterisco\n",
    "                                \n",
    "    print(\"Conexión realizada con éxito\")\n",
    "    \n",
    "    \n",
    "except mysql.connector.Error as err:\n",
    "    print(f\"No ha sido posible realizar la conexión, ERROR ==> {err}\")"
   ]
  },
  {
   "cell_type": "code",
   "execution_count": 12,
   "id": "7c099ef8",
   "metadata": {},
   "outputs": [
    {
     "name": "stdout",
     "output_type": "stream",
     "text": [
      "Nos hemos movido a la base de datos Instituto\n"
     ]
    }
   ],
   "source": [
    "# Movernos a bbdd Instituto\n",
    "\n",
    "mycursor = cnx.cursor()\n",
    "\n",
    "try:\n",
    "        mycursor.execute('USE Instituto')\n",
    "        print(\"Nos hemos movido a la base de datos Instituto\")\n",
    "        \n",
    "except mysql.connector.Error as err:\n",
    "        print(f\"No ha sido posible crear la base de datos, ERROR ==> {err}\")\n",
    "    "
   ]
  },
  {
   "cell_type": "code",
   "execution_count": 16,
   "id": "d721780c",
   "metadata": {},
   "outputs": [
    {
     "name": "stdout",
     "output_type": "stream",
     "text": [
      "Se han insertado correctamente 15 registros\n"
     ]
    }
   ],
   "source": [
    "# Insercion datos\n",
    "\n",
    "try:\n",
    "    mycursor.executemany('INSERT INTO Alumnos (Num_expediente, Nombre, Apellidos, Fecha_nacimiento) VALUES (%s,%s,%s,%s)'\n",
    "                            , datos_alumnos)\n",
    "    cnx.commit()\n",
    "    print(f\"Se han insertado correctamente {mycursor.rowcount} registros\")\n",
    "    \n",
    "except mysql.connector.Error as err:\n",
    "    print(f\"No ha sido posible crear la base de datos, ERROR ==> {err}\")"
   ]
  }
 ],
 "metadata": {
  "kernelspec": {
   "display_name": "base",
   "language": "python",
   "name": "python3"
  },
  "language_info": {
   "codemirror_mode": {
    "name": "ipython",
    "version": 3
   },
   "file_extension": ".py",
   "mimetype": "text/x-python",
   "name": "python",
   "nbconvert_exporter": "python",
   "pygments_lexer": "ipython3",
   "version": "3.12.7"
  }
 },
 "nbformat": 4,
 "nbformat_minor": 5
}
