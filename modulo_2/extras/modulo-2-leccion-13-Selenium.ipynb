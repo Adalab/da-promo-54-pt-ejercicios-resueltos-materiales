{
 "cells": [
  {
   "cell_type": "markdown",
   "metadata": {},
   "source": [
    "# PAIR Selenium"
   ]
  },
  {
   "cell_type": "markdown",
   "metadata": {},
   "source": [
    "Imagina que eres un analista de datos en una importante cadena de librerías y tu misión es recopilar información actualizada sobre los libros de ficción disponibles en el mercado. Esta información es vital para tomar decisiones estratégicas, como determinar qué libros de ficción deben ser promocionados, ajustar los precios competitivamente y gestionar adecuadamente el inventario. La Casa del Libro es uno de los principales competidores, por lo que es esencial mantenerse al tanto de su catálogo.\n",
    "\n",
    "- Objetivo del Ejercicio: El objetivo de este ejercicio es que las alumnas utilicen Selenium en Python para automatizar la extracción de datos de los libros de ficción en el sitio web de La Casa del Libro. Deberán obtener información clave de los libros, incluyendo título, autor, precio, editorial, idioma y número de páginas.\n",
    "\n",
    "- Descripción:\n",
    "\n",
    "    - **Acceso a la Página de La Casa del Libro:** Utilizando Selenium, deberás automatizar el proceso de navegación hacia la página de libros de ficción en el sitio web de La Casa del Libro.\n",
    "\n",
    "    - **Extracción de Datos de las 5 Primeras Páginas:** Una vez en la página de libros de ficción, debes programar su script para que recorra los 5 primeros libros de libros, extrayendo los siguientes datos de cada libro:\n",
    "\n",
    "        - Título del libro.\n",
    "\n",
    "        - Autor(es) del libro.\n",
    "\n",
    "        - Precio del libro.\n",
    "\n",
    "        - Editorial del libro.\n",
    "\n",
    "        - Idioma del libro.\n",
    "\n",
    "        - Número de páginas del libro.\n",
    "\n",
    "    - **Almacenamiento de Datos:** Los datos extraídos deben almacenarse en un DataFrame."
   ]
  },
  {
   "cell_type": "code",
   "execution_count": 5,
   "metadata": {},
   "outputs": [],
   "source": [
    "# como siempre lo primero que hacemos es importar las librerías que neceitaremos para poder realizar la lección\n",
    "import pandas as pd\n",
    "from time import sleep\n",
    "from datetime import datetime\n",
    "import re\n",
    "import numpy as np\n",
    "\n",
    "from selenium import webdriver\n",
    "from webdriver_manager.chrome import ChromeDriverManager\n",
    "from selenium.webdriver.common.keys import Keys\n",
    "from selenium.webdriver.chrome.options import Options\n",
    "\n",
    "import warnings\n",
    "warnings.filterwarnings('ignore')"
   ]
  },
  {
   "cell_type": "code",
   "execution_count": 6,
   "metadata": {},
   "outputs": [],
   "source": [
    "resultado = {\"nombre\": [], \"precio\":[], \"idioma\": [], \"paginas\": [], \"editorial\": [], \"autor\":[]}"
   ]
  },
  {
   "cell_type": "code",
   "execution_count": 8,
   "metadata": {},
   "outputs": [],
   "source": [
    "# iniciamos el Driver de Selenium \n",
    "driver = webdriver.Chrome()\n",
    "\n",
    "# abrimos la página web especificada\n",
    "driver.get(\"https://www.casadellibro.com\")\n",
    "driver.maximize_window()\n",
    "\n",
    "sleep(5)\n",
    "#aceptamos las cookies\n",
    "driver.find_element(\"css selector\", \"#onetrust-accept-btn-handler\").click()\n",
    "\n",
    "sleep(5)"
   ]
  },
  {
   "cell_type": "markdown",
   "metadata": {},
   "source": [
    "1- Automatizando el proceso de navegación hacia la página de libros de ficción en el sitio web de La Casa del Libro."
   ]
  },
  {
   "cell_type": "code",
   "execution_count": 4,
   "metadata": {},
   "outputs": [
    {
     "ename": "NoSuchElementException",
     "evalue": "Message: no such element: Unable to locate element: {\"method\":\"css selector\",\"selector\":\"#buscadorNF > div.col-md-9.col-12 > div > div.grid-view.mt-4 > div:nth-child(1) > a > div > img\"}\n  (Session info: chrome=131.0.6778.265); For documentation on this error, please visit: https://www.selenium.dev/documentation/webdriver/troubleshooting/errors#no-such-element-exception\nStacktrace:\n0   chromedriver                        0x000000010bcc7ab8 chromedriver + 7092920\n1   chromedriver                        0x000000010bcbf39a chromedriver + 7058330\n2   chromedriver                        0x000000010b665d70 chromedriver + 400752\n3   chromedriver                        0x000000010b6b4bc3 chromedriver + 723907\n4   chromedriver                        0x000000010b6b4ec1 chromedriver + 724673\n5   chromedriver                        0x000000010b6fae94 chromedriver + 1011348\n6   chromedriver                        0x000000010b6d924d chromedriver + 873037\n7   chromedriver                        0x000000010b6f8175 chromedriver + 999797\n8   chromedriver                        0x000000010b6d8fc3 chromedriver + 872387\n9   chromedriver                        0x000000010b6a75c2 chromedriver + 669122\n10  chromedriver                        0x000000010b6a859e chromedriver + 673182\n11  chromedriver                        0x000000010bc8c350 chromedriver + 6849360\n12  chromedriver                        0x000000010bc90280 chromedriver + 6865536\n13  chromedriver                        0x000000010bc6e737 chromedriver + 6727479\n14  chromedriver                        0x000000010bc90d0e chromedriver + 6868238\n15  chromedriver                        0x000000010bc5e084 chromedriver + 6660228\n16  chromedriver                        0x000000010bcada18 chromedriver + 6986264\n17  chromedriver                        0x000000010bcadbd6 chromedriver + 6986710\n18  chromedriver                        0x000000010bcbef78 chromedriver + 7057272\n19  libsystem_pthread.dylib             0x00007fff203698fc _pthread_start + 224\n20  libsystem_pthread.dylib             0x00007fff20365443 thread_start + 15\n",
     "output_type": "error",
     "traceback": [
      "\u001b[0;31m---------------------------------------------------------------------------\u001b[0m",
      "\u001b[0;31mNoSuchElementException\u001b[0m                    Traceback (most recent call last)",
      "\u001b[0;32m/var/folders/cr/f3dqyy756z9ftxxsrmgtgjjh0000gn/T/ipykernel_4041/94359065.py\u001b[0m in \u001b[0;36m<module>\u001b[0;34m\u001b[0m\n\u001b[1;32m     18\u001b[0m \u001b[0;31m# clicamos en el primer libro\u001b[0m\u001b[0;34m\u001b[0m\u001b[0;34m\u001b[0m\u001b[0m\n\u001b[1;32m     19\u001b[0m \u001b[0;32mfor\u001b[0m \u001b[0mi\u001b[0m \u001b[0;32min\u001b[0m \u001b[0mrange\u001b[0m\u001b[0;34m(\u001b[0m\u001b[0;36m1\u001b[0m\u001b[0;34m,\u001b[0m\u001b[0;36m6\u001b[0m\u001b[0;34m)\u001b[0m\u001b[0;34m:\u001b[0m\u001b[0;34m\u001b[0m\u001b[0;34m\u001b[0m\u001b[0m\n\u001b[0;32m---> 20\u001b[0;31m     \u001b[0mdriver\u001b[0m\u001b[0;34m.\u001b[0m\u001b[0mfind_element\u001b[0m\u001b[0;34m(\u001b[0m\u001b[0;34m\"css selector\"\u001b[0m\u001b[0;34m,\u001b[0m \u001b[0;34mf\"#buscadorNF > div.col-md-9.col-12 > div > div.grid-view.mt-4 > div:nth-child({i}) > a > div > img\"\u001b[0m\u001b[0;34m)\u001b[0m\u001b[0;34m.\u001b[0m\u001b[0mclick\u001b[0m\u001b[0;34m(\u001b[0m\u001b[0;34m)\u001b[0m\u001b[0;34m\u001b[0m\u001b[0;34m\u001b[0m\u001b[0m\n\u001b[0m\u001b[1;32m     21\u001b[0m     \u001b[0;31m#buscadorNF > div.col-md-9.col-12 > div > div.grid-view.mt-4 > div:nth-child(2) > a > div > img\u001b[0m\u001b[0;34m\u001b[0m\u001b[0;34m\u001b[0m\u001b[0m\n\u001b[1;32m     22\u001b[0m     \u001b[0msleep\u001b[0m\u001b[0;34m(\u001b[0m\u001b[0;36m5\u001b[0m\u001b[0;34m)\u001b[0m\u001b[0;34m\u001b[0m\u001b[0;34m\u001b[0m\u001b[0m\n",
      "\u001b[0;32m~/opt/anaconda3/lib/python3.9/site-packages/selenium/webdriver/remote/webdriver.py\u001b[0m in \u001b[0;36mfind_element\u001b[0;34m(self, by, value)\u001b[0m\n\u001b[1;32m    746\u001b[0m             \u001b[0mvalue\u001b[0m \u001b[0;34m=\u001b[0m \u001b[0;34mf'[name=\"{value}\"]'\u001b[0m\u001b[0;34m\u001b[0m\u001b[0;34m\u001b[0m\u001b[0m\n\u001b[1;32m    747\u001b[0m \u001b[0;34m\u001b[0m\u001b[0m\n\u001b[0;32m--> 748\u001b[0;31m         \u001b[0;32mreturn\u001b[0m \u001b[0mself\u001b[0m\u001b[0;34m.\u001b[0m\u001b[0mexecute\u001b[0m\u001b[0;34m(\u001b[0m\u001b[0mCommand\u001b[0m\u001b[0;34m.\u001b[0m\u001b[0mFIND_ELEMENT\u001b[0m\u001b[0;34m,\u001b[0m \u001b[0;34m{\u001b[0m\u001b[0;34m\"using\"\u001b[0m\u001b[0;34m:\u001b[0m \u001b[0mby\u001b[0m\u001b[0;34m,\u001b[0m \u001b[0;34m\"value\"\u001b[0m\u001b[0;34m:\u001b[0m \u001b[0mvalue\u001b[0m\u001b[0;34m}\u001b[0m\u001b[0;34m)\u001b[0m\u001b[0;34m[\u001b[0m\u001b[0;34m\"value\"\u001b[0m\u001b[0;34m]\u001b[0m\u001b[0;34m\u001b[0m\u001b[0;34m\u001b[0m\u001b[0m\n\u001b[0m\u001b[1;32m    749\u001b[0m \u001b[0;34m\u001b[0m\u001b[0m\n\u001b[1;32m    750\u001b[0m     \u001b[0;32mdef\u001b[0m \u001b[0mfind_elements\u001b[0m\u001b[0;34m(\u001b[0m\u001b[0mself\u001b[0m\u001b[0;34m,\u001b[0m \u001b[0mby\u001b[0m\u001b[0;34m=\u001b[0m\u001b[0mBy\u001b[0m\u001b[0;34m.\u001b[0m\u001b[0mID\u001b[0m\u001b[0;34m,\u001b[0m \u001b[0mvalue\u001b[0m\u001b[0;34m:\u001b[0m \u001b[0mOptional\u001b[0m\u001b[0;34m[\u001b[0m\u001b[0mstr\u001b[0m\u001b[0;34m]\u001b[0m \u001b[0;34m=\u001b[0m \u001b[0;32mNone\u001b[0m\u001b[0;34m)\u001b[0m \u001b[0;34m->\u001b[0m \u001b[0mList\u001b[0m\u001b[0;34m[\u001b[0m\u001b[0mWebElement\u001b[0m\u001b[0;34m]\u001b[0m\u001b[0;34m:\u001b[0m\u001b[0;34m\u001b[0m\u001b[0;34m\u001b[0m\u001b[0m\n",
      "\u001b[0;32m~/opt/anaconda3/lib/python3.9/site-packages/selenium/webdriver/remote/webdriver.py\u001b[0m in \u001b[0;36mexecute\u001b[0;34m(self, driver_command, params)\u001b[0m\n\u001b[1;32m    352\u001b[0m         \u001b[0mresponse\u001b[0m \u001b[0;34m=\u001b[0m \u001b[0mself\u001b[0m\u001b[0;34m.\u001b[0m\u001b[0mcommand_executor\u001b[0m\u001b[0;34m.\u001b[0m\u001b[0mexecute\u001b[0m\u001b[0;34m(\u001b[0m\u001b[0mdriver_command\u001b[0m\u001b[0;34m,\u001b[0m \u001b[0mparams\u001b[0m\u001b[0;34m)\u001b[0m\u001b[0;34m\u001b[0m\u001b[0;34m\u001b[0m\u001b[0m\n\u001b[1;32m    353\u001b[0m         \u001b[0;32mif\u001b[0m \u001b[0mresponse\u001b[0m\u001b[0;34m:\u001b[0m\u001b[0;34m\u001b[0m\u001b[0;34m\u001b[0m\u001b[0m\n\u001b[0;32m--> 354\u001b[0;31m             \u001b[0mself\u001b[0m\u001b[0;34m.\u001b[0m\u001b[0merror_handler\u001b[0m\u001b[0;34m.\u001b[0m\u001b[0mcheck_response\u001b[0m\u001b[0;34m(\u001b[0m\u001b[0mresponse\u001b[0m\u001b[0;34m)\u001b[0m\u001b[0;34m\u001b[0m\u001b[0;34m\u001b[0m\u001b[0m\n\u001b[0m\u001b[1;32m    355\u001b[0m             \u001b[0mresponse\u001b[0m\u001b[0;34m[\u001b[0m\u001b[0;34m\"value\"\u001b[0m\u001b[0;34m]\u001b[0m \u001b[0;34m=\u001b[0m \u001b[0mself\u001b[0m\u001b[0;34m.\u001b[0m\u001b[0m_unwrap_value\u001b[0m\u001b[0;34m(\u001b[0m\u001b[0mresponse\u001b[0m\u001b[0;34m.\u001b[0m\u001b[0mget\u001b[0m\u001b[0;34m(\u001b[0m\u001b[0;34m\"value\"\u001b[0m\u001b[0;34m,\u001b[0m \u001b[0;32mNone\u001b[0m\u001b[0;34m)\u001b[0m\u001b[0;34m)\u001b[0m\u001b[0;34m\u001b[0m\u001b[0;34m\u001b[0m\u001b[0m\n\u001b[1;32m    356\u001b[0m             \u001b[0;32mreturn\u001b[0m \u001b[0mresponse\u001b[0m\u001b[0;34m\u001b[0m\u001b[0;34m\u001b[0m\u001b[0m\n",
      "\u001b[0;32m~/opt/anaconda3/lib/python3.9/site-packages/selenium/webdriver/remote/errorhandler.py\u001b[0m in \u001b[0;36mcheck_response\u001b[0;34m(self, response)\u001b[0m\n\u001b[1;32m    227\u001b[0m                 \u001b[0malert_text\u001b[0m \u001b[0;34m=\u001b[0m \u001b[0mvalue\u001b[0m\u001b[0;34m[\u001b[0m\u001b[0;34m\"alert\"\u001b[0m\u001b[0;34m]\u001b[0m\u001b[0;34m.\u001b[0m\u001b[0mget\u001b[0m\u001b[0;34m(\u001b[0m\u001b[0;34m\"text\"\u001b[0m\u001b[0;34m)\u001b[0m\u001b[0;34m\u001b[0m\u001b[0;34m\u001b[0m\u001b[0m\n\u001b[1;32m    228\u001b[0m             \u001b[0;32mraise\u001b[0m \u001b[0mexception_class\u001b[0m\u001b[0;34m(\u001b[0m\u001b[0mmessage\u001b[0m\u001b[0;34m,\u001b[0m \u001b[0mscreen\u001b[0m\u001b[0;34m,\u001b[0m \u001b[0mstacktrace\u001b[0m\u001b[0;34m,\u001b[0m \u001b[0malert_text\u001b[0m\u001b[0;34m)\u001b[0m  \u001b[0;31m# type: ignore[call-arg]  # mypy is not smart enough here\u001b[0m\u001b[0;34m\u001b[0m\u001b[0;34m\u001b[0m\u001b[0m\n\u001b[0;32m--> 229\u001b[0;31m         \u001b[0;32mraise\u001b[0m \u001b[0mexception_class\u001b[0m\u001b[0;34m(\u001b[0m\u001b[0mmessage\u001b[0m\u001b[0;34m,\u001b[0m \u001b[0mscreen\u001b[0m\u001b[0;34m,\u001b[0m \u001b[0mstacktrace\u001b[0m\u001b[0;34m)\u001b[0m\u001b[0;34m\u001b[0m\u001b[0;34m\u001b[0m\u001b[0m\n\u001b[0m",
      "\u001b[0;31mNoSuchElementException\u001b[0m: Message: no such element: Unable to locate element: {\"method\":\"css selector\",\"selector\":\"#buscadorNF > div.col-md-9.col-12 > div > div.grid-view.mt-4 > div:nth-child(1) > a > div > img\"}\n  (Session info: chrome=131.0.6778.265); For documentation on this error, please visit: https://www.selenium.dev/documentation/webdriver/troubleshooting/errors#no-such-element-exception\nStacktrace:\n0   chromedriver                        0x000000010bcc7ab8 chromedriver + 7092920\n1   chromedriver                        0x000000010bcbf39a chromedriver + 7058330\n2   chromedriver                        0x000000010b665d70 chromedriver + 400752\n3   chromedriver                        0x000000010b6b4bc3 chromedriver + 723907\n4   chromedriver                        0x000000010b6b4ec1 chromedriver + 724673\n5   chromedriver                        0x000000010b6fae94 chromedriver + 1011348\n6   chromedriver                        0x000000010b6d924d chromedriver + 873037\n7   chromedriver                        0x000000010b6f8175 chromedriver + 999797\n8   chromedriver                        0x000000010b6d8fc3 chromedriver + 872387\n9   chromedriver                        0x000000010b6a75c2 chromedriver + 669122\n10  chromedriver                        0x000000010b6a859e chromedriver + 673182\n11  chromedriver                        0x000000010bc8c350 chromedriver + 6849360\n12  chromedriver                        0x000000010bc90280 chromedriver + 6865536\n13  chromedriver                        0x000000010bc6e737 chromedriver + 6727479\n14  chromedriver                        0x000000010bc90d0e chromedriver + 6868238\n15  chromedriver                        0x000000010bc5e084 chromedriver + 6660228\n16  chromedriver                        0x000000010bcada18 chromedriver + 6986264\n17  chromedriver                        0x000000010bcadbd6 chromedriver + 6986710\n18  chromedriver                        0x000000010bcbef78 chromedriver + 7057272\n19  libsystem_pthread.dylib             0x00007fff203698fc _pthread_start + 224\n20  libsystem_pthread.dylib             0x00007fff20365443 thread_start + 15\n"
     ]
    }
   ],
   "source": [
    "# iniciamos el Driver de Selenium \n",
    "driver = webdriver.Chrome()\n",
    "\n",
    "# abrimos la página web especificada\n",
    "driver.get(\"https://www.casadellibro.com\")\n",
    "driver.maximize_window()\n",
    "\n",
    "sleep(5)\n",
    "#aceptamos las cookies\n",
    "driver.find_element(\"css selector\", \"#onetrust-accept-btn-handler\").click()\n",
    "\n",
    "sleep(5)\n",
    "# clicamos en libros ficcion\n",
    "driver.find_element(\"css selector\", \"#op1-menu-cabecera-nivel1\").click()\n",
    "\n",
    "## cliclamos en los libros de ficcion de literatura contemporanea\n",
    "# \n",
    "\n",
    "\n",
    "sleep(5)\n",
    "# clicamos en el primer libro\n",
    "for i in range(1,6):\n",
    "    driver.find_element(\"css selector\", f\"#buscadorNF > div.col-md-9.col-12 > div > div.grid-view.mt-4 > div:nth-child({i}) > a > div > img\").click()\n",
    "    #buscadorNF > div.col-md-9.col-12 > div > div.grid-view.mt-4 > div:nth-child(2) > a > div > img\n",
    "    sleep(5)\n",
    "    # sacamos el nombre del libro\n",
    "    nombre = driver.find_element(\"css selector\", \"#app > div.v-application--wrap > main > div > div > div > div:nth-child(3) > div > div.col-md-5.order-lg-2.col-12.order-1 > div > h1\").text\n",
    "    precio = driver.find_element(\"css selector\", \"#app > div.v-application--wrap > main > div > div > div > div:nth-child(3) > div > div.border-left.col-md-4.col-12.order-3 > div > div:nth-child(3) > div.col.col-8\").text\n",
    "    try:\n",
    "        idioma = driver.find_element(\"css selector\", \"#app > div.v-application--wrap > main > div > div > div > div:nth-child(7) > div > div:nth-child(2) > div > div:nth-child(3) > div:nth-child(2) > span\").text\n",
    "    except:\n",
    "        idioma = driver.find_element(\"css selector\", \"#app > div.v-application--wrap > main > div > div > div > div:nth-child(8) > div > div:nth-child(2) > div > div:nth-child(3) > div:nth-child(2) > span\").text\n",
    "\n",
    "    try:\n",
    "        paginas = driver.find_element(\"css selector\", \"#app > div.v-application--wrap > main > div > div > div > div:nth-child(7) > div > div:nth-child(2) > div > div:nth-child(1) > div:nth-child(2) > span\").text\n",
    "    except:\n",
    "        paginas = driver.find_element(\"css selector\", \"#app > div.v-application--wrap > main > div > div > div > div:nth-child(8) > div > div:nth-child(2) > div > div:nth-child(1) > div:nth-child(2) > span\").text\n",
    "    \n",
    "    try:\n",
    "        editorial = driver.find_element(\"css selector\", \"#app > div.v-application--wrap > main > div > div > div > div:nth-child(7) > div > div:nth-child(2) > div > div:nth-child(2) > div:nth-child(2) > span\").text\n",
    "    except:\n",
    "        editorial = driver.find_element(\"css selector\", \"#app > div.v-application--wrap > main > div > div > div > div:nth-child(8) > div > div:nth-child(2) > div > div:nth-child(2) > div:nth-child(2) > span\").text\n",
    "    \n",
    "    autor = driver.find_element(\"css selector\", \"#app > div.v-application--wrap > main > div > div > div > div:nth-child(3) > div > div.col-md-5.order-lg-2.col-12.order-1 > div > div.text-h5.d-flex.flex-wrap.author.mb-2.justify-center.justify-sm-start > div > a > span:nth-child(1)\").text\n",
    "    \n",
    "    resultado[\"nombre\"].append(nombre)\n",
    "    resultado[\"precio\"].append(precio)\n",
    "    resultado[\"idioma\"].append(idioma)\n",
    "    resultado[\"paginas\"].append(paginas)\n",
    "    resultado[\"editorial\"].append(editorial)\n",
    "    resultado[\"autor\"].append(autor)\n",
    "    # Navegar hacia atrás\n",
    "    driver.back()\n",
    "    sleep(5)\n",
    "driver.close()"
   ]
  },
  {
   "cell_type": "markdown",
   "metadata": {},
   "source": [
    "2- Los datos extraídos deben almacenarse en un DataFrame."
   ]
  },
  {
   "cell_type": "code",
   "execution_count": 16,
   "metadata": {},
   "outputs": [
    {
     "data": {
      "text/html": [
       "<div>\n",
       "<style scoped>\n",
       "    .dataframe tbody tr th:only-of-type {\n",
       "        vertical-align: middle;\n",
       "    }\n",
       "\n",
       "    .dataframe tbody tr th {\n",
       "        vertical-align: top;\n",
       "    }\n",
       "\n",
       "    .dataframe thead th {\n",
       "        text-align: right;\n",
       "    }\n",
       "</style>\n",
       "<table border=\"1\" class=\"dataframe\">\n",
       "  <thead>\n",
       "    <tr style=\"text-align: right;\">\n",
       "      <th></th>\n",
       "      <th>nombre</th>\n",
       "      <th>precio</th>\n",
       "      <th>idioma</th>\n",
       "      <th>paginas</th>\n",
       "      <th>editorial</th>\n",
       "      <th>autor</th>\n",
       "    </tr>\n",
       "  </thead>\n",
       "  <tbody>\n",
       "    <tr>\n",
       "      <th>0</th>\n",
       "      <td>LA CHICA DEL VERANO (NOVELA)</td>\n",
       "      <td>18,90 €</td>\n",
       "      <td>CASTELLANO</td>\n",
       "      <td>424</td>\n",
       "      <td>TIMUN MAS</td>\n",
       "      <td>LA VECINA RUBIA</td>\n",
       "    </tr>\n",
       "    <tr>\n",
       "      <th>1</th>\n",
       "      <td>LA ARMADURA DE LA LUZ (SAGA LOS PILARES DE LA ...</td>\n",
       "      <td>23,65 €</td>\n",
       "      <td>CASTELLANO</td>\n",
       "      <td>832</td>\n",
       "      <td>PLAZA &amp; JANES EDITORES</td>\n",
       "      <td>KEN FOLLETT</td>\n",
       "    </tr>\n",
       "    <tr>\n",
       "      <th>2</th>\n",
       "      <td>EL INFIERNO</td>\n",
       "      <td>21,75 €</td>\n",
       "      <td>CASTELLANO</td>\n",
       "      <td>480</td>\n",
       "      <td>PLANETA</td>\n",
       "      <td>CARMEN MOLA</td>\n",
       "    </tr>\n",
       "    <tr>\n",
       "      <th>3</th>\n",
       "      <td>EL PROBLEMA FINAL</td>\n",
       "      <td>20,80 €</td>\n",
       "      <td>CASTELLANO</td>\n",
       "      <td>328</td>\n",
       "      <td>ALFAGUARA</td>\n",
       "      <td>ARTURO PEREZ REVERTE</td>\n",
       "    </tr>\n",
       "    <tr>\n",
       "      <th>4</th>\n",
       "      <td>BOCABESADA</td>\n",
       "      <td>19,85 €</td>\n",
       "      <td>CASTELLANO</td>\n",
       "      <td>288</td>\n",
       "      <td>ESPASA LIBROS</td>\n",
       "      <td>JUAN DEL VAL</td>\n",
       "    </tr>\n",
       "  </tbody>\n",
       "</table>\n",
       "</div>"
      ],
      "text/plain": [
       "                                              nombre   precio      idioma  \\\n",
       "0                       LA CHICA DEL VERANO (NOVELA)  18,90 €  CASTELLANO   \n",
       "1  LA ARMADURA DE LA LUZ (SAGA LOS PILARES DE LA ...  23,65 €  CASTELLANO   \n",
       "2                                        EL INFIERNO  21,75 €  CASTELLANO   \n",
       "3                                  EL PROBLEMA FINAL  20,80 €  CASTELLANO   \n",
       "4                                         BOCABESADA  19,85 €  CASTELLANO   \n",
       "\n",
       "  paginas               editorial                 autor  \n",
       "0     424               TIMUN MAS       LA VECINA RUBIA  \n",
       "1     832  PLAZA & JANES EDITORES           KEN FOLLETT  \n",
       "2     480                 PLANETA           CARMEN MOLA  \n",
       "3     328               ALFAGUARA  ARTURO PEREZ REVERTE  \n",
       "4     288           ESPASA LIBROS          JUAN DEL VAL  "
      ]
     },
     "execution_count": 16,
     "metadata": {},
     "output_type": "execute_result"
    }
   ],
   "source": [
    "df_libros = pd.DataFrame(resultado)\n",
    "df_libros"
   ]
  }
 ],
 "metadata": {
  "kernelspec": {
   "display_name": "base",
   "language": "python",
   "name": "python3"
  },
  "language_info": {
   "codemirror_mode": {
    "name": "ipython",
    "version": 3
   },
   "file_extension": ".py",
   "mimetype": "text/x-python",
   "name": "python",
   "nbconvert_exporter": "python",
   "pygments_lexer": "ipython3",
   "version": "3.9.7"
  },
  "orig_nbformat": 4
 },
 "nbformat": 4,
 "nbformat_minor": 2
}
