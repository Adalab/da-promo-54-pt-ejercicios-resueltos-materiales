{
 "cells": [
  {
   "cell_type": "code",
   "execution_count": 1,
   "id": "180873c4",
   "metadata": {},
   "outputs": [
    {
     "name": "stdout",
     "output_type": "stream",
     "text": [
      "False\n",
      "False\n",
      "False\n",
      "True\n"
     ]
    }
   ],
   "source": [
    "# 1\n",
    "\n",
    "numero1 = 5\n",
    "numero2 = 10\n",
    "numero3 = 35\n",
    "\n",
    "print(numero1 > numero2)\n",
    "print(numero3 < numero1 < numero2)\n",
    "print(numero3 == numero2)\n",
    "print(numero2 != numero1)"
   ]
  },
  {
   "cell_type": "code",
   "execution_count": 4,
   "id": "581d450c",
   "metadata": {},
   "outputs": [
    {
     "name": "stdout",
     "output_type": "stream",
     "text": [
      "3.5999999999999996\n",
      "-0.19999999999999996\n",
      "1.7\n",
      "0.9\n"
     ]
    }
   ],
   "source": [
    "# 2\n",
    "\n",
    "altura1 = 1.70\n",
    "altura2 = 1.90\n",
    "\n",
    "print(altura1 + altura2)\n",
    "print(altura1 - altura2)\n",
    "print(altura1 % altura2)\n",
    "print(round(altura1 / altura2, 1))"
   ]
  },
  {
   "cell_type": "code",
   "execution_count": null,
   "id": "cd8769ee",
   "metadata": {},
   "outputs": [],
   "source": [
    "# 3\n",
    "\n",
    "nombre = input('Dime tu nombre: ')\n",
    "apellido = input('Dime tu apellido: ')"
   ]
  },
  {
   "cell_type": "code",
   "execution_count": null,
   "id": "9a7376c3",
   "metadata": {},
   "outputs": [],
   "source": [
    "print({(nombre + apellido).upper()})\n",
    "print({(nombre + apellido).lower()})\n",
    "print({(nombre + apellido).title()})\n",
    "print({(nombre + apellido).capitalize()})"
   ]
  },
  {
   "cell_type": "code",
   "execution_count": 12,
   "id": "5ab9f57f",
   "metadata": {},
   "outputs": [],
   "source": [
    "# 4 \n",
    "\n",
    "frase = input('Dime una frase: ')\n",
    "vocal = input('Dime una vocal: ')"
   ]
  },
  {
   "cell_type": "code",
   "execution_count": 13,
   "id": "ad4eb926",
   "metadata": {},
   "outputs": [
    {
     "name": "stdout",
     "output_type": "stream",
     "text": [
      "HolA, buenos díAs, qué tAl? \n"
     ]
    }
   ],
   "source": [
    "print(frase.replace('a', vocal.upper()))"
   ]
  },
  {
   "cell_type": "code",
   "execution_count": null,
   "id": "d2e261d3",
   "metadata": {},
   "outputs": [
    {
     "name": "stdout",
     "output_type": "stream",
     "text": [
      "leche\n",
      " pan\n",
      " huevos\n",
      " fruta\n"
     ]
    }
   ],
   "source": [
    "# 5\n",
    "\n",
    "# lista_compra = input('Dime la lista de la compra: ')\n",
    "lista_compra = 'leche, pan, huevos, fruta'\n",
    "lista_nueva = lista_compra.split(',')\n",
    "print('\\n'.join(lista_nueva))"
   ]
  }
 ],
 "metadata": {
  "kernelspec": {
   "display_name": "base",
   "language": "python",
   "name": "python3"
  },
  "language_info": {
   "codemirror_mode": {
    "name": "ipython",
    "version": 3
   },
   "file_extension": ".py",
   "mimetype": "text/x-python",
   "name": "python",
   "nbconvert_exporter": "python",
   "pygments_lexer": "ipython3",
   "version": "3.11.9"
  }
 },
 "nbformat": 4,
 "nbformat_minor": 5
}
