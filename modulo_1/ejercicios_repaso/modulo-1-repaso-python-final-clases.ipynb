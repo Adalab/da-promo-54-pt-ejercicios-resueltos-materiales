{
 "cells": [
  {
   "cell_type": "code",
   "execution_count": 1,
   "id": "f5407586",
   "metadata": {},
   "outputs": [],
   "source": [
    "import re"
   ]
  },
  {
   "cell_type": "code",
   "execution_count": 2,
   "id": "61d7a1a0",
   "metadata": {},
   "outputs": [],
   "source": [
    "class Biblioteca:\n",
    "    def __init__(self, multas_cobradas = 0.0, id_prestamo_counter = 0):\n",
    "        self.multas_cobradas = multas_cobradas\n",
    "        self.id_prestamo_counter = id_prestamo_counter\n",
    "        self.inventario_libros = []\n",
    "        self.usuarios = {}\n",
    "        \n",
    "    def agregar_libro(self, isbn, titulo, autor, cantidad_total):\n",
    "    \n",
    "        '''Si el ISBN existe en INVENTARIO_LIBROS, aumenta su cantidad_total. \n",
    "        Si no, agrega el nuevo libro con cantidad_prestada: 0.'''\n",
    "\n",
    "        for libro in self.inventario_libros:\n",
    "            if libro['isbn'] == isbn:\n",
    "                libro['cantidad_total'] += cantidad_total\n",
    "                return self.inventario_libros # busca el libro, si lo encuentra termina la función porque hay un return. \n",
    "\n",
    "        self.inventario_libros.append(        # solo si no encuentra el libro lo añade como nuevo\n",
    "            {'isbn' : isbn, \n",
    "                'titulo': titulo, \n",
    "                'autor': autor, \n",
    "                'cantidad_total': cantidad_total, \n",
    "                'cantidad_prestada' : 0})\n",
    "        return self.inventario_libros\n",
    "    \n",
    "    def eliminar_libro(self, isbn):\n",
    "        '''\n",
    "        Busca y elimina el libro. Condición: Solo si la cantidad_prestada es 0.\n",
    "        \n",
    "        '''\n",
    "        for libro in self.inventario_libros:\n",
    "            if libro['isbn'] == isbn:\n",
    "                if libro['cantidad_prestada'] == 0:\n",
    "                    self.inventario_libros.remove(libro)\n",
    "                    print(f\"Se ha eliminado el libro {libro['titulo']}\")\n",
    "                    return self.inventario_libros\n",
    "                else:\n",
    "                    print(\"Lo siento, no podemos eliminar el libro, porque está siendo prestado\")\n",
    "                    return self.inventario_libros\n",
    "            \n",
    "        print(\"Lo siento, libro no encontrado\")\n",
    "                \n",
    "        return self.inventario_libros\n",
    "\n",
    "    def obtener_inventario(self):\n",
    "        \n",
    "        inventario = []\n",
    "        \n",
    "        for i, libro in enumerate(self.inventario_libros):\n",
    "            inventario.append({f\"Libro {i + 1}\":[libro['titulo'], libro['autor'], libro['cantidad_total'] - libro['cantidad_prestada']]})\n",
    "            \n",
    "        return inventario\n",
    "    \n",
    "    def buscar_libro_por_titulo(self,titulo):\n",
    "        libros = []\n",
    "        for libro in self.inventario_libros:\n",
    "            if titulo in libro['titulo']:\n",
    "                libros.append(libro)\n",
    "            \n",
    "        if len(libros) == 0:\n",
    "            print(f\"Prueba otra vez, ninguna coincidencia con {titulo}\")\n",
    "        else:\n",
    "            return libros\n",
    "    \n",
    "    def agregar_usuario(self,id_usuario, nombre, email):\n",
    "        patron = r\"[a-zA-Z0-9._+%]+@[a-zA-Z0-9._]+\\.\\w{2,}\"\n",
    "        if re.match(patron,email) != None:\n",
    "            self.usuarios[id_usuario] = {'nombre': nombre, 'mail': email, 'prestamos': []}\n",
    "            return self.usuarios\n",
    "        else:\n",
    "            print(\"Formato incorrecto email, intentalo de nuevo.\")\n",
    "        \n",
    "    \n",
    "    def obtener_usuarios(self, prestamos = False):\n",
    "        lista_usuarios = []\n",
    "        for key, value in self.usuarios.items():\n",
    "            if not prestamos:\n",
    "                lista_usuarios.append([key, value['nombre'], value['mail']])\n",
    "            else:\n",
    "                lista_usuarios.append([key, value['nombre'], value['mail'], value['prestamos']])\n",
    "        return lista_usuarios\n",
    "    \n",
    "    def realizar_prestamo(self, id_usuario, isbn):\n",
    "        if id_usuario in self.usuarios.keys():\n",
    "            for libro in self.inventario_libros:\n",
    "                if isbn in libro['isbn']:\n",
    "                    libro['cantidad_prestada'] += 1\n",
    "                    self.usuarios[id_usuario]['prestamos'].append(isbn)\n",
    "                    self.id_prestamo_counter += 1\n",
    "                    return self.inventario_libros, self.usuarios\n",
    "            print(\"Este libro no se encuentra en nuestra biblioteca\")\n",
    "            return self.inventario_libros\n",
    "        else: \n",
    "            print(\"Lo siento, cliente no encontrado.\")\n",
    "            \n",
    "    \n",
    "    def realizar_devolucion(self, id_usuario, isbn):\n",
    "        if isbn in self.usuarios[id_usuario]['prestamos']:\n",
    "            self.usuarios[id_usuario]['prestamos'].remove(isbn)\n",
    "            for libro in self.inventario_libros:\n",
    "                if libro['isbn'] == isbn:\n",
    "                    libro['cantidad_prestada'] -= 1       \n",
    "            \n",
    "            return self.usuarios, self.inventario_libros\n",
    "    \n",
    "    def calcular_prestamos_activos_totales(self):\n",
    "        contador = 0\n",
    "        for libro in self.inventario_libros:\n",
    "            contador += libro['cantidad_prestada']\n",
    "        \n",
    "        return contador\n",
    "    \n",
    "    def obtener_usuario_con_mas_prestamos(self, n = 3):\n",
    "        numero_prestamos_usuario = []\n",
    "        for key,value in self.usuarios.items():\n",
    "            numero_prestamos_usuario.append([key, len(value['prestamos'])])\n",
    "        \n",
    "        numero_prestamos_usuario_ordenada = sorted(numero_prestamos_usuario, key=lambda x: x[1], reverse=True)\n",
    "        \n",
    "        return numero_prestamos_usuario_ordenada[:n]\n",
    "\n",
    "    def registrar_multa(self, monto):\n",
    "        self.multas_cobradas += monto\n",
    "        return self.multas_cobradas\n",
    "             "
   ]
  },
  {
   "cell_type": "markdown",
   "id": "1d5e3942",
   "metadata": {},
   "source": [
    "# PROBAMOS CLASE"
   ]
  },
  {
   "cell_type": "code",
   "execution_count": 3,
   "id": "dc7d3d6b",
   "metadata": {},
   "outputs": [],
   "source": [
    "# creamos instancia de clase (objeto)\n",
    "\n",
    "libreria = Biblioteca()"
   ]
  },
  {
   "cell_type": "code",
   "execution_count": 4,
   "id": "955e0e97",
   "metadata": {},
   "outputs": [],
   "source": [
    "libros_agregar = [\n",
    "    ['9780743273565','The Great Gatsby','F. Scott Fitzgerald',2],\n",
    "    ['9780143127550', 'The Martian', 'Andy Weir', 5],\n",
    "    ['9780307476463', 'The Girl with the Dragon Tattoo', 'Stieg Larsson', 4],\n",
    "    ['9780062316110', 'The Alchemist', 'Paulo Coelho', 7],\n",
    "    ['9781982137274', 'Where the Crawdads Sing', 'Delia Owens', 6],\n",
    "    ['9780590353427', 'Harry Potter and the Sorcerer’s Stone', 'J.K. Rowling', 10],\n",
    "    ['9780451524935', '1984', 'George Orwell', 8],\n",
    "    ['9780743273565', 'The Great Gatsby', 'F. Scott Fitzgerald', 5],\n",
    "    ['9780316769488', 'The Catcher in the Rye', 'J.D. Salinger', 6],\n",
    "    ['9781501124020', 'It Ends with Us', 'Colleen Hoover', 4],\n",
    "    ['9780553380163', 'A Game of Thrones', 'George R.R. Martin', 9],\n",
    "    ['9780439064873', 'Harry Potter and the Chamber of Secrets', 'J.K. Rowling', 8],\n",
    "    ['9780345803481', 'Fifty Shades of Grey', 'E. L. James', 3],\n",
    "    ['9780061120084', 'To Kill a Mockingbird', 'Harper Lee', 7],\n",
    "    ['9780140283297', 'Brave New World', 'Aldous Huxley', 5],\n",
    "    ['9780385546027', 'The Midnight Library', 'Matt Haig', 6],\n",
    "    ['9780547928227', 'The Hobbit', 'J.R.R. Tolkien', 10],\n",
    "    ['9780316015844', 'Twilight', 'Stephenie Meyer', 5],\n",
    "    ['9780140449136', 'The Odyssey', 'Homer', 4],\n",
    "    ['9780679783275', 'Pride and Prejudice', 'Jane Austen', 8],\n",
    "    ['9780307588371', 'Gone Girl', 'Gillian Flynn', 5]\n",
    "]\n",
    "\n",
    "for libro in libros_agregar:\n",
    "    libreria.agregar_libro(libro[0],libro[1], libro[2], libro[3])"
   ]
  },
  {
   "cell_type": "code",
   "execution_count": 5,
   "id": "0111787c",
   "metadata": {},
   "outputs": [
    {
     "name": "stdout",
     "output_type": "stream",
     "text": [
      "Se ha eliminado el libro The Martian\n"
     ]
    },
    {
     "data": {
      "text/plain": [
       "[{'isbn': '9780743273565',\n",
       "  'titulo': 'The Great Gatsby',\n",
       "  'autor': 'F. Scott Fitzgerald',\n",
       "  'cantidad_total': 7,\n",
       "  'cantidad_prestada': 0},\n",
       " {'isbn': '9780307476463',\n",
       "  'titulo': 'The Girl with the Dragon Tattoo',\n",
       "  'autor': 'Stieg Larsson',\n",
       "  'cantidad_total': 4,\n",
       "  'cantidad_prestada': 0},\n",
       " {'isbn': '9780062316110',\n",
       "  'titulo': 'The Alchemist',\n",
       "  'autor': 'Paulo Coelho',\n",
       "  'cantidad_total': 7,\n",
       "  'cantidad_prestada': 0},\n",
       " {'isbn': '9781982137274',\n",
       "  'titulo': 'Where the Crawdads Sing',\n",
       "  'autor': 'Delia Owens',\n",
       "  'cantidad_total': 6,\n",
       "  'cantidad_prestada': 0},\n",
       " {'isbn': '9780590353427',\n",
       "  'titulo': 'Harry Potter and the Sorcerer’s Stone',\n",
       "  'autor': 'J.K. Rowling',\n",
       "  'cantidad_total': 10,\n",
       "  'cantidad_prestada': 0},\n",
       " {'isbn': '9780451524935',\n",
       "  'titulo': '1984',\n",
       "  'autor': 'George Orwell',\n",
       "  'cantidad_total': 8,\n",
       "  'cantidad_prestada': 0},\n",
       " {'isbn': '9780316769488',\n",
       "  'titulo': 'The Catcher in the Rye',\n",
       "  'autor': 'J.D. Salinger',\n",
       "  'cantidad_total': 6,\n",
       "  'cantidad_prestada': 0},\n",
       " {'isbn': '9781501124020',\n",
       "  'titulo': 'It Ends with Us',\n",
       "  'autor': 'Colleen Hoover',\n",
       "  'cantidad_total': 4,\n",
       "  'cantidad_prestada': 0},\n",
       " {'isbn': '9780553380163',\n",
       "  'titulo': 'A Game of Thrones',\n",
       "  'autor': 'George R.R. Martin',\n",
       "  'cantidad_total': 9,\n",
       "  'cantidad_prestada': 0},\n",
       " {'isbn': '9780439064873',\n",
       "  'titulo': 'Harry Potter and the Chamber of Secrets',\n",
       "  'autor': 'J.K. Rowling',\n",
       "  'cantidad_total': 8,\n",
       "  'cantidad_prestada': 0},\n",
       " {'isbn': '9780345803481',\n",
       "  'titulo': 'Fifty Shades of Grey',\n",
       "  'autor': 'E. L. James',\n",
       "  'cantidad_total': 3,\n",
       "  'cantidad_prestada': 0},\n",
       " {'isbn': '9780061120084',\n",
       "  'titulo': 'To Kill a Mockingbird',\n",
       "  'autor': 'Harper Lee',\n",
       "  'cantidad_total': 7,\n",
       "  'cantidad_prestada': 0},\n",
       " {'isbn': '9780140283297',\n",
       "  'titulo': 'Brave New World',\n",
       "  'autor': 'Aldous Huxley',\n",
       "  'cantidad_total': 5,\n",
       "  'cantidad_prestada': 0},\n",
       " {'isbn': '9780385546027',\n",
       "  'titulo': 'The Midnight Library',\n",
       "  'autor': 'Matt Haig',\n",
       "  'cantidad_total': 6,\n",
       "  'cantidad_prestada': 0},\n",
       " {'isbn': '9780547928227',\n",
       "  'titulo': 'The Hobbit',\n",
       "  'autor': 'J.R.R. Tolkien',\n",
       "  'cantidad_total': 10,\n",
       "  'cantidad_prestada': 0},\n",
       " {'isbn': '9780316015844',\n",
       "  'titulo': 'Twilight',\n",
       "  'autor': 'Stephenie Meyer',\n",
       "  'cantidad_total': 5,\n",
       "  'cantidad_prestada': 0},\n",
       " {'isbn': '9780140449136',\n",
       "  'titulo': 'The Odyssey',\n",
       "  'autor': 'Homer',\n",
       "  'cantidad_total': 4,\n",
       "  'cantidad_prestada': 0},\n",
       " {'isbn': '9780679783275',\n",
       "  'titulo': 'Pride and Prejudice',\n",
       "  'autor': 'Jane Austen',\n",
       "  'cantidad_total': 8,\n",
       "  'cantidad_prestada': 0},\n",
       " {'isbn': '9780307588371',\n",
       "  'titulo': 'Gone Girl',\n",
       "  'autor': 'Gillian Flynn',\n",
       "  'cantidad_total': 5,\n",
       "  'cantidad_prestada': 0}]"
      ]
     },
     "execution_count": 5,
     "metadata": {},
     "output_type": "execute_result"
    }
   ],
   "source": [
    "libreria.eliminar_libro('9780143127550')"
   ]
  },
  {
   "cell_type": "code",
   "execution_count": 6,
   "id": "4e9c65d4",
   "metadata": {},
   "outputs": [
    {
     "data": {
      "text/plain": [
       "[{'Libro 1': ['The Great Gatsby', 'F. Scott Fitzgerald', 7]},\n",
       " {'Libro 2': ['The Girl with the Dragon Tattoo', 'Stieg Larsson', 4]},\n",
       " {'Libro 3': ['The Alchemist', 'Paulo Coelho', 7]},\n",
       " {'Libro 4': ['Where the Crawdads Sing', 'Delia Owens', 6]},\n",
       " {'Libro 5': ['Harry Potter and the Sorcerer’s Stone', 'J.K. Rowling', 10]},\n",
       " {'Libro 6': ['1984', 'George Orwell', 8]},\n",
       " {'Libro 7': ['The Catcher in the Rye', 'J.D. Salinger', 6]},\n",
       " {'Libro 8': ['It Ends with Us', 'Colleen Hoover', 4]},\n",
       " {'Libro 9': ['A Game of Thrones', 'George R.R. Martin', 9]},\n",
       " {'Libro 10': ['Harry Potter and the Chamber of Secrets', 'J.K. Rowling', 8]},\n",
       " {'Libro 11': ['Fifty Shades of Grey', 'E. L. James', 3]},\n",
       " {'Libro 12': ['To Kill a Mockingbird', 'Harper Lee', 7]},\n",
       " {'Libro 13': ['Brave New World', 'Aldous Huxley', 5]},\n",
       " {'Libro 14': ['The Midnight Library', 'Matt Haig', 6]},\n",
       " {'Libro 15': ['The Hobbit', 'J.R.R. Tolkien', 10]},\n",
       " {'Libro 16': ['Twilight', 'Stephenie Meyer', 5]},\n",
       " {'Libro 17': ['The Odyssey', 'Homer', 4]},\n",
       " {'Libro 18': ['Pride and Prejudice', 'Jane Austen', 8]},\n",
       " {'Libro 19': ['Gone Girl', 'Gillian Flynn', 5]}]"
      ]
     },
     "execution_count": 6,
     "metadata": {},
     "output_type": "execute_result"
    }
   ],
   "source": [
    "libreria.obtener_inventario()"
   ]
  },
  {
   "cell_type": "code",
   "execution_count": 7,
   "id": "e4725603",
   "metadata": {},
   "outputs": [
    {
     "data": {
      "text/plain": [
       "[{'isbn': '9780140283297',\n",
       "  'titulo': 'Brave New World',\n",
       "  'autor': 'Aldous Huxley',\n",
       "  'cantidad_total': 5,\n",
       "  'cantidad_prestada': 0}]"
      ]
     },
     "execution_count": 7,
     "metadata": {},
     "output_type": "execute_result"
    }
   ],
   "source": [
    "libreria.buscar_libro_por_titulo('rave')"
   ]
  },
  {
   "cell_type": "code",
   "execution_count": null,
   "id": "4840db7f",
   "metadata": {},
   "outputs": [
    {
     "data": {
      "text/plain": [
       "{101: {'nombre': 'Ana García',\n",
       "  'mail': 'ana.garcia@example.com',\n",
       "  'prestamos': []},\n",
       " 102: {'nombre': 'Luis Fernández',\n",
       "  'mail': 'luis.fernandez@mail.es',\n",
       "  'prestamos': []},\n",
       " 103: {'nombre': 'María López',\n",
       "  'mail': 'maria_lopez+notify@servicio.org',\n",
       "  'prestamos': []},\n",
       " 104: {'nombre': 'Pablo Martínez',\n",
       "  'mail': 'pablo.martinez123@dominio.net',\n",
       "  'prestamos': []},\n",
       " 105: {'nombre': 'Sofía Ruiz',\n",
       "  'mail': 'sofia.ruiz%info@correo.co',\n",
       "  'prestamos': []}}"
      ]
     },
     "execution_count": 8,
     "metadata": {},
     "output_type": "execute_result"
    }
   ],
   "source": [
    "nuevos_usuarios = [\n",
    "    (101, \"Ana García\",      \"ana.garcia@example.com\"),\n",
    "    (102, \"Luis Fernández\",  \"luis.fernandez@mail.es\"),\n",
    "    (103, \"María López\",     \"maria_lopez+notify@servicio.org\"),\n",
    "    (104, \"Pablo Martínez\",  \"pablo.martinez123@dominio.net\"),\n",
    "    (105, \"Sofía Ruiz\",      \"sofia.ruiz%info@correo.co\")\n",
    "]\n",
    "\n",
    "for usuario in nuevos_usuarios:\n",
    "    libreria.agregar_usuario(usuario[0], usuario[1], usuario[2])\n",
    "    \n",
    "libreria.usuarios # accedemos al atributo usuarios de la clase libreria para ver su contenido"
   ]
  },
  {
   "cell_type": "code",
   "execution_count": 9,
   "id": "2cb3d7f1",
   "metadata": {},
   "outputs": [
    {
     "data": {
      "text/plain": [
       "[[101, 'Ana García', 'ana.garcia@example.com'],\n",
       " [102, 'Luis Fernández', 'luis.fernandez@mail.es'],\n",
       " [103, 'María López', 'maria_lopez+notify@servicio.org'],\n",
       " [104, 'Pablo Martínez', 'pablo.martinez123@dominio.net'],\n",
       " [105, 'Sofía Ruiz', 'sofia.ruiz%info@correo.co']]"
      ]
     },
     "execution_count": 9,
     "metadata": {},
     "output_type": "execute_result"
    }
   ],
   "source": [
    "libreria.obtener_usuarios()"
   ]
  },
  {
   "cell_type": "code",
   "execution_count": 11,
   "id": "0ad61683",
   "metadata": {},
   "outputs": [],
   "source": [
    "prestamos = [(101, '9780743273565'),  (101, '9780345803481'), (102, '9780061120084'), (102,  '9780385546027'), (103, '9781982137274')]"
   ]
  },
  {
   "cell_type": "code",
   "execution_count": 12,
   "id": "6e2c4d2b",
   "metadata": {},
   "outputs": [],
   "source": [
    "for prestamo in prestamos:\n",
    "    libreria.realizar_prestamo(prestamo[0], prestamo[1])"
   ]
  },
  {
   "cell_type": "code",
   "execution_count": 13,
   "id": "e124edf1",
   "metadata": {},
   "outputs": [
    {
     "data": {
      "text/plain": [
       "{101: {'nombre': 'Ana García',\n",
       "  'mail': 'ana.garcia@example.com',\n",
       "  'prestamos': ['9780743273565', '9780345803481']},\n",
       " 102: {'nombre': 'Luis Fernández',\n",
       "  'mail': 'luis.fernandez@mail.es',\n",
       "  'prestamos': ['9780061120084', '9780385546027']},\n",
       " 103: {'nombre': 'María López',\n",
       "  'mail': 'maria_lopez+notify@servicio.org',\n",
       "  'prestamos': ['9781982137274']},\n",
       " 104: {'nombre': 'Pablo Martínez',\n",
       "  'mail': 'pablo.martinez123@dominio.net',\n",
       "  'prestamos': []},\n",
       " 105: {'nombre': 'Sofía Ruiz',\n",
       "  'mail': 'sofia.ruiz%info@correo.co',\n",
       "  'prestamos': []}}"
      ]
     },
     "execution_count": 13,
     "metadata": {},
     "output_type": "execute_result"
    }
   ],
   "source": [
    "libreria.usuarios"
   ]
  },
  {
   "cell_type": "code",
   "execution_count": 14,
   "id": "5ee88f30",
   "metadata": {},
   "outputs": [
    {
     "data": {
      "text/plain": [
       "({101: {'nombre': 'Ana García',\n",
       "   'mail': 'ana.garcia@example.com',\n",
       "   'prestamos': ['9780345803481']},\n",
       "  102: {'nombre': 'Luis Fernández',\n",
       "   'mail': 'luis.fernandez@mail.es',\n",
       "   'prestamos': ['9780061120084', '9780385546027']},\n",
       "  103: {'nombre': 'María López',\n",
       "   'mail': 'maria_lopez+notify@servicio.org',\n",
       "   'prestamos': ['9781982137274']},\n",
       "  104: {'nombre': 'Pablo Martínez',\n",
       "   'mail': 'pablo.martinez123@dominio.net',\n",
       "   'prestamos': []},\n",
       "  105: {'nombre': 'Sofía Ruiz',\n",
       "   'mail': 'sofia.ruiz%info@correo.co',\n",
       "   'prestamos': []}},\n",
       " [{'isbn': '9780743273565',\n",
       "   'titulo': 'The Great Gatsby',\n",
       "   'autor': 'F. Scott Fitzgerald',\n",
       "   'cantidad_total': 7,\n",
       "   'cantidad_prestada': 0},\n",
       "  {'isbn': '9780307476463',\n",
       "   'titulo': 'The Girl with the Dragon Tattoo',\n",
       "   'autor': 'Stieg Larsson',\n",
       "   'cantidad_total': 4,\n",
       "   'cantidad_prestada': 0},\n",
       "  {'isbn': '9780062316110',\n",
       "   'titulo': 'The Alchemist',\n",
       "   'autor': 'Paulo Coelho',\n",
       "   'cantidad_total': 7,\n",
       "   'cantidad_prestada': 0},\n",
       "  {'isbn': '9781982137274',\n",
       "   'titulo': 'Where the Crawdads Sing',\n",
       "   'autor': 'Delia Owens',\n",
       "   'cantidad_total': 6,\n",
       "   'cantidad_prestada': 1},\n",
       "  {'isbn': '9780590353427',\n",
       "   'titulo': 'Harry Potter and the Sorcerer’s Stone',\n",
       "   'autor': 'J.K. Rowling',\n",
       "   'cantidad_total': 10,\n",
       "   'cantidad_prestada': 0},\n",
       "  {'isbn': '9780451524935',\n",
       "   'titulo': '1984',\n",
       "   'autor': 'George Orwell',\n",
       "   'cantidad_total': 8,\n",
       "   'cantidad_prestada': 0},\n",
       "  {'isbn': '9780316769488',\n",
       "   'titulo': 'The Catcher in the Rye',\n",
       "   'autor': 'J.D. Salinger',\n",
       "   'cantidad_total': 6,\n",
       "   'cantidad_prestada': 0},\n",
       "  {'isbn': '9781501124020',\n",
       "   'titulo': 'It Ends with Us',\n",
       "   'autor': 'Colleen Hoover',\n",
       "   'cantidad_total': 4,\n",
       "   'cantidad_prestada': 0},\n",
       "  {'isbn': '9780553380163',\n",
       "   'titulo': 'A Game of Thrones',\n",
       "   'autor': 'George R.R. Martin',\n",
       "   'cantidad_total': 9,\n",
       "   'cantidad_prestada': 0},\n",
       "  {'isbn': '9780439064873',\n",
       "   'titulo': 'Harry Potter and the Chamber of Secrets',\n",
       "   'autor': 'J.K. Rowling',\n",
       "   'cantidad_total': 8,\n",
       "   'cantidad_prestada': 0},\n",
       "  {'isbn': '9780345803481',\n",
       "   'titulo': 'Fifty Shades of Grey',\n",
       "   'autor': 'E. L. James',\n",
       "   'cantidad_total': 3,\n",
       "   'cantidad_prestada': 1},\n",
       "  {'isbn': '9780061120084',\n",
       "   'titulo': 'To Kill a Mockingbird',\n",
       "   'autor': 'Harper Lee',\n",
       "   'cantidad_total': 7,\n",
       "   'cantidad_prestada': 1},\n",
       "  {'isbn': '9780140283297',\n",
       "   'titulo': 'Brave New World',\n",
       "   'autor': 'Aldous Huxley',\n",
       "   'cantidad_total': 5,\n",
       "   'cantidad_prestada': 0},\n",
       "  {'isbn': '9780385546027',\n",
       "   'titulo': 'The Midnight Library',\n",
       "   'autor': 'Matt Haig',\n",
       "   'cantidad_total': 6,\n",
       "   'cantidad_prestada': 1},\n",
       "  {'isbn': '9780547928227',\n",
       "   'titulo': 'The Hobbit',\n",
       "   'autor': 'J.R.R. Tolkien',\n",
       "   'cantidad_total': 10,\n",
       "   'cantidad_prestada': 0},\n",
       "  {'isbn': '9780316015844',\n",
       "   'titulo': 'Twilight',\n",
       "   'autor': 'Stephenie Meyer',\n",
       "   'cantidad_total': 5,\n",
       "   'cantidad_prestada': 0},\n",
       "  {'isbn': '9780140449136',\n",
       "   'titulo': 'The Odyssey',\n",
       "   'autor': 'Homer',\n",
       "   'cantidad_total': 4,\n",
       "   'cantidad_prestada': 0},\n",
       "  {'isbn': '9780679783275',\n",
       "   'titulo': 'Pride and Prejudice',\n",
       "   'autor': 'Jane Austen',\n",
       "   'cantidad_total': 8,\n",
       "   'cantidad_prestada': 0},\n",
       "  {'isbn': '9780307588371',\n",
       "   'titulo': 'Gone Girl',\n",
       "   'autor': 'Gillian Flynn',\n",
       "   'cantidad_total': 5,\n",
       "   'cantidad_prestada': 0}])"
      ]
     },
     "execution_count": 14,
     "metadata": {},
     "output_type": "execute_result"
    }
   ],
   "source": [
    "libreria.realizar_devolucion(101, '9780743273565')"
   ]
  },
  {
   "cell_type": "code",
   "execution_count": 15,
   "id": "b0dd8493",
   "metadata": {},
   "outputs": [
    {
     "data": {
      "text/plain": [
       "4"
      ]
     },
     "execution_count": 15,
     "metadata": {},
     "output_type": "execute_result"
    }
   ],
   "source": [
    "libreria.calcular_prestamos_activos_totales()"
   ]
  },
  {
   "cell_type": "code",
   "execution_count": 16,
   "id": "bdca24f9",
   "metadata": {},
   "outputs": [
    {
     "data": {
      "text/plain": [
       "[[102, 2], [101, 1], [103, 1]]"
      ]
     },
     "execution_count": 16,
     "metadata": {},
     "output_type": "execute_result"
    }
   ],
   "source": [
    "libreria.obtener_usuario_con_mas_prestamos()"
   ]
  },
  {
   "cell_type": "code",
   "execution_count": 17,
   "id": "66b2f739",
   "metadata": {},
   "outputs": [
    {
     "data": {
      "text/plain": [
       "5.0"
      ]
     },
     "execution_count": 17,
     "metadata": {},
     "output_type": "execute_result"
    }
   ],
   "source": [
    "libreria.registrar_multa(5)"
   ]
  }
 ],
 "metadata": {
  "kernelspec": {
   "display_name": "base",
   "language": "python",
   "name": "python3"
  },
  "language_info": {
   "codemirror_mode": {
    "name": "ipython",
    "version": 3
   },
   "file_extension": ".py",
   "mimetype": "text/x-python",
   "name": "python",
   "nbconvert_exporter": "python",
   "pygments_lexer": "ipython3",
   "version": "3.12.7"
  }
 },
 "nbformat": 4,
 "nbformat_minor": 5
}
