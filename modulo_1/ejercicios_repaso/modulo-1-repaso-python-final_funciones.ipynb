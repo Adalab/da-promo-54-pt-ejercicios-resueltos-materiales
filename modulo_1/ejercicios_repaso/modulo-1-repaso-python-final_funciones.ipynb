{
 "cells": [
  {
   "cell_type": "markdown",
   "id": "bb3b8c67",
   "metadata": {},
   "source": [
    "# 1. Estructuras de Datos Globales"
   ]
  },
  {
   "cell_type": "code",
   "execution_count": null,
   "id": "26af64c3",
   "metadata": {},
   "outputs": [],
   "source": [
    "# creamos las variables globales que vamos a usar \n",
    "\n",
    "inventario_libros = []\n",
    "\n",
    "usuarios = {}\n",
    "\n",
    "multas_cobradas = 0.0\n",
    "\n",
    "id_prestamo_counter = 0"
   ]
  },
  {
   "cell_type": "markdown",
   "id": "64e66fec",
   "metadata": {},
   "source": [
    "# 2. Funciones a Implementar"
   ]
  },
  {
   "cell_type": "markdown",
   "id": "caeabd05",
   "metadata": {},
   "source": [
    "### A. Gestión de Libros (Inventario)"
   ]
  },
  {
   "cell_type": "code",
   "execution_count": null,
   "id": "c792642c",
   "metadata": {},
   "outputs": [],
   "source": [
    "def agregar_libro(isbn, titulo, autor, cantidad_total):\n",
    "    \n",
    "    '''Si el ISBN existe en INVENTARIO_LIBROS, aumenta su cantidad_total. \n",
    "    Si no, agrega el nuevo libro con cantidad_prestada: 0.'''\n",
    "    \n",
    "    for libro in inventario_libros:\n",
    "        if libro['isbn'] == isbn:\n",
    "            libro['cantidad_total'] += cantidad_total\n",
    "            return inventario_libros # busca el libro, si lo encuentra suma la cantidad añadida a la cantidad total\n",
    "                                     # y termina la función porque hay un return. \n",
    " \n",
    "    inventario_libros.append(        # solo si no encuentra el libro lo añade como nuevo, lo añadimos como un \n",
    "        {'isbn' : isbn,              # diccionario, tendremos lista de diccionarios siendo cada diccionario un libro distinto\n",
    "            'titulo': titulo, \n",
    "            'autor': autor,  \n",
    "            'cantidad_total': cantidad_total, \n",
    "            'cantidad_prestada' : 0})\n",
    "    \n",
    "    return inventario_libros\n",
    "    "
   ]
  },
  {
   "cell_type": "code",
   "execution_count": null,
   "id": "8eccc8ee",
   "metadata": {},
   "outputs": [],
   "source": [
    "def eliminar_libro(isbn):\n",
    "    '''\n",
    "    Busca y elimina el libro. Condición: Solo si la cantidad_prestada es 0.\n",
    "    \n",
    "    '''\n",
    "    for libro in inventario_libros:\n",
    "        if libro['isbn'] == isbn: # si el libro se encuentra entre los isbn de nuestro inventario\n",
    "            if libro['cantidad_prestada'] == 0: # y además nadie ha cogido prestado el libro\n",
    "                inventario_libros.remove(libro) # entonces eliminamos el libro\n",
    "                print(f\"Se ha eliminado el libro {libro['titulo']}\")\n",
    "                return inventario_libros\n",
    "            else:\n",
    "                print(\"Lo siento, no podemos eliminar el libro, porque está siendo prestado\") \n",
    "                # si el libro sí esta, pero la cantidad prestada no es 0, entonces no podemos eliminarlo\n",
    "                return inventario_libros\n",
    "        \n",
    "    print(\"Lo siento, libro no encontrado\") \n",
    "    # solo llegaríamos a este print si no entra en el if anterior, porque si entra tanto si luego continua por el if cantidad prestada == 0\n",
    "    # como si cantidad prestada != 0, en cualquier caso la función termina, porque hay return. \n",
    "            \n",
    "    return inventario_libros  \n",
    "                \n",
    "            "
   ]
  },
  {
   "cell_type": "code",
   "execution_count": 347,
   "id": "e2b673d5",
   "metadata": {},
   "outputs": [],
   "source": [
    "def obtener_inventario():\n",
    "    \n",
    "    inventario = []\n",
    "    \n",
    "    for i, libro in enumerate(inventario_libros):\n",
    "        inventario.append({f\"Libro {i + 1}\":[libro['titulo'], libro['autor'], libro['cantidad_total'] - libro['cantidad_prestada']]})\n",
    "        \n",
    "    return inventario"
   ]
  },
  {
   "cell_type": "code",
   "execution_count": 348,
   "id": "07114694",
   "metadata": {},
   "outputs": [],
   "source": [
    "def buscar_libro_por_titulo(titulo):\n",
    "    libros = []\n",
    "    for libro in inventario_libros:\n",
    "        if titulo in libro['titulo']:\n",
    "            libros.append(libro)\n",
    "        \n",
    "    if len(libros) == 0:\n",
    "        print(f\"Prueba otra vez, ninguna coincidencia con {titulo}\")\n",
    "    else:\n",
    "        return libros\n",
    "    "
   ]
  },
  {
   "cell_type": "markdown",
   "id": "23cfbecc",
   "metadata": {},
   "source": [
    "### B. Gestión de Usuarios"
   ]
  },
  {
   "cell_type": "code",
   "execution_count": null,
   "id": "d6e14c45",
   "metadata": {},
   "outputs": [],
   "source": [
    "import re"
   ]
  },
  {
   "cell_type": "code",
   "execution_count": 350,
   "id": "ee1c880e",
   "metadata": {},
   "outputs": [],
   "source": [
    "def agregar_usuario(id_usuario, nombre, email):\n",
    "    patron = r\"[a-zA-Z0-9._+%]+@[a-zA-Z0-9._]+\\.\\w{2,}\"\n",
    "    if re.match(patron,email) != None:\n",
    "        usuarios[id_usuario] = {'nombre': nombre, 'mail': email, 'prestamos': []}\n",
    "        return usuarios\n",
    "    else:\n",
    "        print(\"Formato incorrecto email, intentalo de nuevo.\")"
   ]
  },
  {
   "cell_type": "code",
   "execution_count": 351,
   "id": "32e3a7be",
   "metadata": {},
   "outputs": [],
   "source": [
    "def obtener_usuarios(prestamos = False):\n",
    "    lista_usuarios = []\n",
    "    for key, value in usuarios.items():\n",
    "        if not prestamos:\n",
    "            lista_usuarios.append([key, value['nombre'], value['mail']])\n",
    "        else:\n",
    "            lista_usuarios.append([key, value['nombre'], value['mail'], value['prestamos']])\n",
    "    return lista_usuarios\n",
    "        "
   ]
  },
  {
   "cell_type": "markdown",
   "id": "b3605b43",
   "metadata": {},
   "source": [
    "### C. Gestión de Préstamos y Devoluciones"
   ]
  },
  {
   "cell_type": "code",
   "execution_count": 352,
   "id": "3d192d61",
   "metadata": {},
   "outputs": [],
   "source": [
    "def realizar_prestamo(id_usuario, isbn, id_prestamo_counter = id_prestamo_counter):\n",
    "    if id_usuario in usuarios.keys():\n",
    "        for libro in inventario_libros:\n",
    "            if isbn in libro['isbn']:\n",
    "                libro['cantidad_prestada'] += 1\n",
    "                usuarios[id_usuario]['prestamos'].append(isbn)\n",
    "                id_prestamo_counter += 1\n",
    "                return inventario_libros, usuarios\n",
    "        print(\"Este libro no se encuentra en nuestra biblioteca\")\n",
    "        return inventario_libros\n",
    "    else: \n",
    "        print(\"Lo siento, cliente no encontrado.\")\n",
    "             "
   ]
  },
  {
   "cell_type": "code",
   "execution_count": 353,
   "id": "df4dfcf6",
   "metadata": {},
   "outputs": [],
   "source": [
    "def realizar_devolucion(id_usuario, isbn):\n",
    "    if isbn in usuarios[id_usuario]['prestamos']:\n",
    "        usuarios[id_usuario]['prestamos'].remove(isbn)\n",
    "        for libro in inventario_libros:\n",
    "            if libro['isbn'] == isbn:\n",
    "                libro['cantidad_prestada'] -= 1       \n",
    "        \n",
    "        return usuarios, inventario_libros\n",
    "    \n"
   ]
  },
  {
   "cell_type": "markdown",
   "id": "98b33eb7",
   "metadata": {},
   "source": [
    "### D. Métodos de Estadísticas"
   ]
  },
  {
   "cell_type": "code",
   "execution_count": 354,
   "id": "599a7839",
   "metadata": {},
   "outputs": [],
   "source": [
    "def calcular_prestamos_activos_totales():\n",
    "    contador = 0\n",
    "    for libro in inventario_libros:\n",
    "        contador += libro['cantidad_prestada']\n",
    "    \n",
    "    return contador"
   ]
  },
  {
   "cell_type": "code",
   "execution_count": 355,
   "id": "079750d2",
   "metadata": {},
   "outputs": [],
   "source": [
    "def obtener_usuario_con_mas_prestamos(n = 3):\n",
    "    numero_prestamos_usuario = []\n",
    "    for key,value in usuarios.items():\n",
    "        numero_prestamos_usuario.append([key, len(value['prestamos'])])\n",
    "    \n",
    "    numero_prestamos_usuario_ordenada = sorted(numero_prestamos_usuario, key=lambda x: x[1], reverse=True)\n",
    "    \n",
    "    return numero_prestamos_usuario_ordenada[:n]"
   ]
  },
  {
   "cell_type": "code",
   "execution_count": 356,
   "id": "e055beab",
   "metadata": {},
   "outputs": [],
   "source": [
    "def registrar_multa(monto, multas_cobradas = multas_cobradas):\n",
    "    multas_cobradas += monto\n",
    "    return multas_cobradas"
   ]
  },
  {
   "cell_type": "markdown",
   "id": "8d41d6dc",
   "metadata": {},
   "source": [
    "# PROBAMOS FUNCIONES"
   ]
  },
  {
   "cell_type": "code",
   "execution_count": 357,
   "id": "cb520500",
   "metadata": {},
   "outputs": [],
   "source": [
    "libros_agregar = [\n",
    "    ['9780743273565','The Great Gatsby','F. Scott Fitzgerald',2],\n",
    "    ['9780143127550', 'The Martian', 'Andy Weir', 5],\n",
    "    ['9780307476463', 'The Girl with the Dragon Tattoo', 'Stieg Larsson', 4],\n",
    "    ['9780062316110', 'The Alchemist', 'Paulo Coelho', 7],\n",
    "    ['9781982137274', 'Where the Crawdads Sing', 'Delia Owens', 6],\n",
    "    ['9780590353427', 'Harry Potter and the Sorcerer’s Stone', 'J.K. Rowling', 10],\n",
    "    ['9780451524935', '1984', 'George Orwell', 8],\n",
    "    ['9780743273565', 'The Great Gatsby', 'F. Scott Fitzgerald', 5],\n",
    "    ['9780316769488', 'The Catcher in the Rye', 'J.D. Salinger', 6],\n",
    "    ['9781501124020', 'It Ends with Us', 'Colleen Hoover', 4],\n",
    "    ['9780553380163', 'A Game of Thrones', 'George R.R. Martin', 9],\n",
    "    ['9780439064873', 'Harry Potter and the Chamber of Secrets', 'J.K. Rowling', 8],\n",
    "    ['9780345803481', 'Fifty Shades of Grey', 'E. L. James', 3],\n",
    "    ['9780061120084', 'To Kill a Mockingbird', 'Harper Lee', 7],\n",
    "    ['9780140283297', 'Brave New World', 'Aldous Huxley', 5],\n",
    "    ['9780385546027', 'The Midnight Library', 'Matt Haig', 6],\n",
    "    ['9780547928227', 'The Hobbit', 'J.R.R. Tolkien', 10],\n",
    "    ['9780316015844', 'Twilight', 'Stephenie Meyer', 5],\n",
    "    ['9780140449136', 'The Odyssey', 'Homer', 4],\n",
    "    ['9780679783275', 'Pride and Prejudice', 'Jane Austen', 8],\n",
    "    ['9780307588371', 'Gone Girl', 'Gillian Flynn', 5]\n",
    "]\n",
    "\n",
    "for libro in libros_agregar:\n",
    "    agregar_libro(libro[0],libro[1], libro[2], libro[3])"
   ]
  },
  {
   "cell_type": "code",
   "execution_count": 358,
   "id": "9311ec16",
   "metadata": {},
   "outputs": [
    {
     "name": "stdout",
     "output_type": "stream",
     "text": [
      "Se ha eliminado el libro The Martian\n"
     ]
    },
    {
     "data": {
      "text/plain": [
       "[{'isbn': '9780743273565',\n",
       "  'titulo': 'The Great Gatsby',\n",
       "  'autor': 'F. Scott Fitzgerald',\n",
       "  'cantidad_total': 7,\n",
       "  'cantidad_prestada': 0},\n",
       " {'isbn': '9780307476463',\n",
       "  'titulo': 'The Girl with the Dragon Tattoo',\n",
       "  'autor': 'Stieg Larsson',\n",
       "  'cantidad_total': 4,\n",
       "  'cantidad_prestada': 0},\n",
       " {'isbn': '9780062316110',\n",
       "  'titulo': 'The Alchemist',\n",
       "  'autor': 'Paulo Coelho',\n",
       "  'cantidad_total': 7,\n",
       "  'cantidad_prestada': 0},\n",
       " {'isbn': '9781982137274',\n",
       "  'titulo': 'Where the Crawdads Sing',\n",
       "  'autor': 'Delia Owens',\n",
       "  'cantidad_total': 6,\n",
       "  'cantidad_prestada': 0},\n",
       " {'isbn': '9780590353427',\n",
       "  'titulo': 'Harry Potter and the Sorcerer’s Stone',\n",
       "  'autor': 'J.K. Rowling',\n",
       "  'cantidad_total': 10,\n",
       "  'cantidad_prestada': 0},\n",
       " {'isbn': '9780451524935',\n",
       "  'titulo': '1984',\n",
       "  'autor': 'George Orwell',\n",
       "  'cantidad_total': 8,\n",
       "  'cantidad_prestada': 0},\n",
       " {'isbn': '9780316769488',\n",
       "  'titulo': 'The Catcher in the Rye',\n",
       "  'autor': 'J.D. Salinger',\n",
       "  'cantidad_total': 6,\n",
       "  'cantidad_prestada': 0},\n",
       " {'isbn': '9781501124020',\n",
       "  'titulo': 'It Ends with Us',\n",
       "  'autor': 'Colleen Hoover',\n",
       "  'cantidad_total': 4,\n",
       "  'cantidad_prestada': 0},\n",
       " {'isbn': '9780553380163',\n",
       "  'titulo': 'A Game of Thrones',\n",
       "  'autor': 'George R.R. Martin',\n",
       "  'cantidad_total': 9,\n",
       "  'cantidad_prestada': 0},\n",
       " {'isbn': '9780439064873',\n",
       "  'titulo': 'Harry Potter and the Chamber of Secrets',\n",
       "  'autor': 'J.K. Rowling',\n",
       "  'cantidad_total': 8,\n",
       "  'cantidad_prestada': 0},\n",
       " {'isbn': '9780345803481',\n",
       "  'titulo': 'Fifty Shades of Grey',\n",
       "  'autor': 'E. L. James',\n",
       "  'cantidad_total': 3,\n",
       "  'cantidad_prestada': 0},\n",
       " {'isbn': '9780061120084',\n",
       "  'titulo': 'To Kill a Mockingbird',\n",
       "  'autor': 'Harper Lee',\n",
       "  'cantidad_total': 7,\n",
       "  'cantidad_prestada': 0},\n",
       " {'isbn': '9780140283297',\n",
       "  'titulo': 'Brave New World',\n",
       "  'autor': 'Aldous Huxley',\n",
       "  'cantidad_total': 5,\n",
       "  'cantidad_prestada': 0},\n",
       " {'isbn': '9780385546027',\n",
       "  'titulo': 'The Midnight Library',\n",
       "  'autor': 'Matt Haig',\n",
       "  'cantidad_total': 6,\n",
       "  'cantidad_prestada': 0},\n",
       " {'isbn': '9780547928227',\n",
       "  'titulo': 'The Hobbit',\n",
       "  'autor': 'J.R.R. Tolkien',\n",
       "  'cantidad_total': 10,\n",
       "  'cantidad_prestada': 0},\n",
       " {'isbn': '9780316015844',\n",
       "  'titulo': 'Twilight',\n",
       "  'autor': 'Stephenie Meyer',\n",
       "  'cantidad_total': 5,\n",
       "  'cantidad_prestada': 0},\n",
       " {'isbn': '9780140449136',\n",
       "  'titulo': 'The Odyssey',\n",
       "  'autor': 'Homer',\n",
       "  'cantidad_total': 4,\n",
       "  'cantidad_prestada': 0},\n",
       " {'isbn': '9780679783275',\n",
       "  'titulo': 'Pride and Prejudice',\n",
       "  'autor': 'Jane Austen',\n",
       "  'cantidad_total': 8,\n",
       "  'cantidad_prestada': 0},\n",
       " {'isbn': '9780307588371',\n",
       "  'titulo': 'Gone Girl',\n",
       "  'autor': 'Gillian Flynn',\n",
       "  'cantidad_total': 5,\n",
       "  'cantidad_prestada': 0}]"
      ]
     },
     "execution_count": 358,
     "metadata": {},
     "output_type": "execute_result"
    }
   ],
   "source": [
    "eliminar_libro('9780143127550')"
   ]
  },
  {
   "cell_type": "code",
   "execution_count": 359,
   "id": "d86d25cc",
   "metadata": {},
   "outputs": [
    {
     "data": {
      "text/plain": [
       "[{'Libro 1': ['The Great Gatsby', 'F. Scott Fitzgerald', 7]},\n",
       " {'Libro 2': ['The Girl with the Dragon Tattoo', 'Stieg Larsson', 4]},\n",
       " {'Libro 3': ['The Alchemist', 'Paulo Coelho', 7]},\n",
       " {'Libro 4': ['Where the Crawdads Sing', 'Delia Owens', 6]},\n",
       " {'Libro 5': ['Harry Potter and the Sorcerer’s Stone', 'J.K. Rowling', 10]},\n",
       " {'Libro 6': ['1984', 'George Orwell', 8]},\n",
       " {'Libro 7': ['The Catcher in the Rye', 'J.D. Salinger', 6]},\n",
       " {'Libro 8': ['It Ends with Us', 'Colleen Hoover', 4]},\n",
       " {'Libro 9': ['A Game of Thrones', 'George R.R. Martin', 9]},\n",
       " {'Libro 10': ['Harry Potter and the Chamber of Secrets', 'J.K. Rowling', 8]},\n",
       " {'Libro 11': ['Fifty Shades of Grey', 'E. L. James', 3]},\n",
       " {'Libro 12': ['To Kill a Mockingbird', 'Harper Lee', 7]},\n",
       " {'Libro 13': ['Brave New World', 'Aldous Huxley', 5]},\n",
       " {'Libro 14': ['The Midnight Library', 'Matt Haig', 6]},\n",
       " {'Libro 15': ['The Hobbit', 'J.R.R. Tolkien', 10]},\n",
       " {'Libro 16': ['Twilight', 'Stephenie Meyer', 5]},\n",
       " {'Libro 17': ['The Odyssey', 'Homer', 4]},\n",
       " {'Libro 18': ['Pride and Prejudice', 'Jane Austen', 8]},\n",
       " {'Libro 19': ['Gone Girl', 'Gillian Flynn', 5]}]"
      ]
     },
     "execution_count": 359,
     "metadata": {},
     "output_type": "execute_result"
    }
   ],
   "source": [
    "obtener_inventario()"
   ]
  },
  {
   "cell_type": "code",
   "execution_count": 360,
   "id": "d786ada9",
   "metadata": {},
   "outputs": [
    {
     "data": {
      "text/plain": [
       "[{'isbn': '9780140283297',\n",
       "  'titulo': 'Brave New World',\n",
       "  'autor': 'Aldous Huxley',\n",
       "  'cantidad_total': 5,\n",
       "  'cantidad_prestada': 0}]"
      ]
     },
     "execution_count": 360,
     "metadata": {},
     "output_type": "execute_result"
    }
   ],
   "source": [
    "buscar_libro_por_titulo('rave')"
   ]
  },
  {
   "cell_type": "code",
   "execution_count": 361,
   "id": "651c875f",
   "metadata": {},
   "outputs": [
    {
     "data": {
      "text/plain": [
       "{101: {'nombre': 'Ana García',\n",
       "  'mail': 'ana.garcia@example.com',\n",
       "  'prestamos': []},\n",
       " 102: {'nombre': 'Luis Fernández',\n",
       "  'mail': 'luis.fernandez@mail.es',\n",
       "  'prestamos': []},\n",
       " 103: {'nombre': 'María López',\n",
       "  'mail': 'maria_lopez+notify@servicio.org',\n",
       "  'prestamos': []},\n",
       " 104: {'nombre': 'Pablo Martínez',\n",
       "  'mail': 'pablo.martinez123@dominio.net',\n",
       "  'prestamos': []},\n",
       " 105: {'nombre': 'Sofía Ruiz',\n",
       "  'mail': 'sofia.ruiz%info@correo.co',\n",
       "  'prestamos': []}}"
      ]
     },
     "execution_count": 361,
     "metadata": {},
     "output_type": "execute_result"
    }
   ],
   "source": [
    "nuevos_usuarios = [\n",
    "    (101, \"Ana García\",      \"ana.garcia@example.com\"),\n",
    "    (102, \"Luis Fernández\",  \"luis.fernandez@mail.es\"),\n",
    "    (103, \"María López\",     \"maria_lopez+notify@servicio.org\"),\n",
    "    (104, \"Pablo Martínez\",  \"pablo.martinez123@dominio.net\"),\n",
    "    (105, \"Sofía Ruiz\",      \"sofia.ruiz%info@correo.co\")\n",
    "]\n",
    "\n",
    "for usuario in nuevos_usuarios:\n",
    "    agregar_usuario(usuario[0], usuario[1], usuario[2])\n",
    "    \n",
    "usuarios"
   ]
  },
  {
   "cell_type": "code",
   "execution_count": 362,
   "id": "88aa1938",
   "metadata": {},
   "outputs": [
    {
     "data": {
      "text/plain": [
       "[[101, 'Ana García', 'ana.garcia@example.com'],\n",
       " [102, 'Luis Fernández', 'luis.fernandez@mail.es'],\n",
       " [103, 'María López', 'maria_lopez+notify@servicio.org'],\n",
       " [104, 'Pablo Martínez', 'pablo.martinez123@dominio.net'],\n",
       " [105, 'Sofía Ruiz', 'sofia.ruiz%info@correo.co']]"
      ]
     },
     "execution_count": 362,
     "metadata": {},
     "output_type": "execute_result"
    }
   ],
   "source": [
    "obtener_usuarios()"
   ]
  },
  {
   "cell_type": "code",
   "execution_count": 363,
   "id": "1812c4db",
   "metadata": {},
   "outputs": [],
   "source": [
    "prestamos = [(101, '9780743273565'),  (101, '9780345803481'), (102, '9780061120084'), (102,  '9780385546027'), (103, '9781982137274')]"
   ]
  },
  {
   "cell_type": "code",
   "execution_count": 364,
   "id": "2dedb6cb",
   "metadata": {},
   "outputs": [],
   "source": [
    "for prestamo in prestamos:\n",
    "    realizar_prestamo(prestamo[0], prestamo[1])"
   ]
  },
  {
   "cell_type": "code",
   "execution_count": 365,
   "id": "8d752d1c",
   "metadata": {},
   "outputs": [
    {
     "data": {
      "text/plain": [
       "({101: {'nombre': 'Ana García',\n",
       "   'mail': 'ana.garcia@example.com',\n",
       "   'prestamos': ['9780345803481']},\n",
       "  102: {'nombre': 'Luis Fernández',\n",
       "   'mail': 'luis.fernandez@mail.es',\n",
       "   'prestamos': ['9780061120084', '9780385546027']},\n",
       "  103: {'nombre': 'María López',\n",
       "   'mail': 'maria_lopez+notify@servicio.org',\n",
       "   'prestamos': ['9781982137274']},\n",
       "  104: {'nombre': 'Pablo Martínez',\n",
       "   'mail': 'pablo.martinez123@dominio.net',\n",
       "   'prestamos': []},\n",
       "  105: {'nombre': 'Sofía Ruiz',\n",
       "   'mail': 'sofia.ruiz%info@correo.co',\n",
       "   'prestamos': []}},\n",
       " [{'isbn': '9780743273565',\n",
       "   'titulo': 'The Great Gatsby',\n",
       "   'autor': 'F. Scott Fitzgerald',\n",
       "   'cantidad_total': 7,\n",
       "   'cantidad_prestada': 0},\n",
       "  {'isbn': '9780307476463',\n",
       "   'titulo': 'The Girl with the Dragon Tattoo',\n",
       "   'autor': 'Stieg Larsson',\n",
       "   'cantidad_total': 4,\n",
       "   'cantidad_prestada': 0},\n",
       "  {'isbn': '9780062316110',\n",
       "   'titulo': 'The Alchemist',\n",
       "   'autor': 'Paulo Coelho',\n",
       "   'cantidad_total': 7,\n",
       "   'cantidad_prestada': 0},\n",
       "  {'isbn': '9781982137274',\n",
       "   'titulo': 'Where the Crawdads Sing',\n",
       "   'autor': 'Delia Owens',\n",
       "   'cantidad_total': 6,\n",
       "   'cantidad_prestada': 1},\n",
       "  {'isbn': '9780590353427',\n",
       "   'titulo': 'Harry Potter and the Sorcerer’s Stone',\n",
       "   'autor': 'J.K. Rowling',\n",
       "   'cantidad_total': 10,\n",
       "   'cantidad_prestada': 0},\n",
       "  {'isbn': '9780451524935',\n",
       "   'titulo': '1984',\n",
       "   'autor': 'George Orwell',\n",
       "   'cantidad_total': 8,\n",
       "   'cantidad_prestada': 0},\n",
       "  {'isbn': '9780316769488',\n",
       "   'titulo': 'The Catcher in the Rye',\n",
       "   'autor': 'J.D. Salinger',\n",
       "   'cantidad_total': 6,\n",
       "   'cantidad_prestada': 0},\n",
       "  {'isbn': '9781501124020',\n",
       "   'titulo': 'It Ends with Us',\n",
       "   'autor': 'Colleen Hoover',\n",
       "   'cantidad_total': 4,\n",
       "   'cantidad_prestada': 0},\n",
       "  {'isbn': '9780553380163',\n",
       "   'titulo': 'A Game of Thrones',\n",
       "   'autor': 'George R.R. Martin',\n",
       "   'cantidad_total': 9,\n",
       "   'cantidad_prestada': 0},\n",
       "  {'isbn': '9780439064873',\n",
       "   'titulo': 'Harry Potter and the Chamber of Secrets',\n",
       "   'autor': 'J.K. Rowling',\n",
       "   'cantidad_total': 8,\n",
       "   'cantidad_prestada': 0},\n",
       "  {'isbn': '9780345803481',\n",
       "   'titulo': 'Fifty Shades of Grey',\n",
       "   'autor': 'E. L. James',\n",
       "   'cantidad_total': 3,\n",
       "   'cantidad_prestada': 1},\n",
       "  {'isbn': '9780061120084',\n",
       "   'titulo': 'To Kill a Mockingbird',\n",
       "   'autor': 'Harper Lee',\n",
       "   'cantidad_total': 7,\n",
       "   'cantidad_prestada': 1},\n",
       "  {'isbn': '9780140283297',\n",
       "   'titulo': 'Brave New World',\n",
       "   'autor': 'Aldous Huxley',\n",
       "   'cantidad_total': 5,\n",
       "   'cantidad_prestada': 0},\n",
       "  {'isbn': '9780385546027',\n",
       "   'titulo': 'The Midnight Library',\n",
       "   'autor': 'Matt Haig',\n",
       "   'cantidad_total': 6,\n",
       "   'cantidad_prestada': 1},\n",
       "  {'isbn': '9780547928227',\n",
       "   'titulo': 'The Hobbit',\n",
       "   'autor': 'J.R.R. Tolkien',\n",
       "   'cantidad_total': 10,\n",
       "   'cantidad_prestada': 0},\n",
       "  {'isbn': '9780316015844',\n",
       "   'titulo': 'Twilight',\n",
       "   'autor': 'Stephenie Meyer',\n",
       "   'cantidad_total': 5,\n",
       "   'cantidad_prestada': 0},\n",
       "  {'isbn': '9780140449136',\n",
       "   'titulo': 'The Odyssey',\n",
       "   'autor': 'Homer',\n",
       "   'cantidad_total': 4,\n",
       "   'cantidad_prestada': 0},\n",
       "  {'isbn': '9780679783275',\n",
       "   'titulo': 'Pride and Prejudice',\n",
       "   'autor': 'Jane Austen',\n",
       "   'cantidad_total': 8,\n",
       "   'cantidad_prestada': 0},\n",
       "  {'isbn': '9780307588371',\n",
       "   'titulo': 'Gone Girl',\n",
       "   'autor': 'Gillian Flynn',\n",
       "   'cantidad_total': 5,\n",
       "   'cantidad_prestada': 0}])"
      ]
     },
     "execution_count": 365,
     "metadata": {},
     "output_type": "execute_result"
    }
   ],
   "source": [
    "realizar_devolucion(101, '9780743273565')"
   ]
  },
  {
   "cell_type": "code",
   "execution_count": 366,
   "id": "3fc0c7c4",
   "metadata": {},
   "outputs": [
    {
     "data": {
      "text/plain": [
       "4"
      ]
     },
     "execution_count": 366,
     "metadata": {},
     "output_type": "execute_result"
    }
   ],
   "source": [
    "calcular_prestamos_activos_totales()"
   ]
  },
  {
   "cell_type": "code",
   "execution_count": 367,
   "id": "a7a0add3",
   "metadata": {},
   "outputs": [
    {
     "data": {
      "text/plain": [
       "[[102, 2], [101, 1], [103, 1]]"
      ]
     },
     "execution_count": 367,
     "metadata": {},
     "output_type": "execute_result"
    }
   ],
   "source": [
    "obtener_usuario_con_mas_prestamos()"
   ]
  },
  {
   "cell_type": "code",
   "execution_count": 368,
   "id": "1052b280",
   "metadata": {},
   "outputs": [
    {
     "data": {
      "text/plain": [
       "5.0"
      ]
     },
     "execution_count": 368,
     "metadata": {},
     "output_type": "execute_result"
    }
   ],
   "source": [
    "registrar_multa(5)"
   ]
  }
 ],
 "metadata": {
  "kernelspec": {
   "display_name": "base",
   "language": "python",
   "name": "python3"
  },
  "language_info": {
   "codemirror_mode": {
    "name": "ipython",
    "version": 3
   },
   "file_extension": ".py",
   "mimetype": "text/x-python",
   "name": "python",
   "nbconvert_exporter": "python",
   "pygments_lexer": "ipython3",
   "version": "3.12.7"
  }
 },
 "nbformat": 4,
 "nbformat_minor": 5
}
