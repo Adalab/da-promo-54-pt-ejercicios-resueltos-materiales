{
 "cells": [
  {
   "cell_type": "markdown",
   "id": "4cd64d31",
   "metadata": {},
   "source": [
    "# Sentencias de control\n"
   ]
  },
  {
   "cell_type": "markdown",
   "id": "4f0ca842",
   "metadata": {},
   "source": [
    "##  1. Clasificación de triángulos:"
   ]
  },
  {
   "cell_type": "code",
   "execution_count": 1,
   "id": "6f831c5b",
   "metadata": {},
   "outputs": [
    {
     "name": "stdout",
     "output_type": "stream",
     "text": [
      "Triangulo equilatero\n",
      "Triangulo equilatero\n"
     ]
    }
   ],
   "source": [
    "\n",
    "# Solicita al usuario la longitud del tercer lado del triángulo y almacena la entrada en la variable lado1.\n",
    "lado1 = input(\"Dime la longitud del primer lado del triángulo\")\n",
    "\n",
    "# Comprueba si la entrada es un número entero (dígitos) utilizando el método .isdigit().\n",
    "if lado1.isdigit():\n",
    "    # Si es un número entero, convierte la cadena en un entero y asigna el valor a la variable lado1.\n",
    "    lado1 = int(lado1)\n",
    "else:\n",
    "    # Si la entrada no es un número entero, entra en un bucle while hasta que se proporcione una entrada válida.\n",
    "    while lado1.isdigit() == False:\n",
    "        # Solicita nuevamente al usuario una entrada válida (un número entero).\n",
    "        lado1 = input(\"Necesito que me pases un número ENTERO\")\n",
    "\n",
    "    # Después de obtener una entrada válida, convierte la cadena en un entero y asigna el valor a la variable lado1.\n",
    "    lado1 = int(lado1)\n",
    "\n",
    "\n",
    "# hacemos lo mismo para el lado2 y para el lado3\n",
    "\n",
    "lado2 = input(\"Dime la longitud del segundo lado del triangulo\")\n",
    "if lado2.isdigit():\n",
    "    lado2 = int(lado2)\n",
    "    \n",
    "else: \n",
    "    while lado2.isdigit() == False:\n",
    "        lado2 = input(\"Necesito que me pases un numero ENTERO\")\n",
    "\n",
    "    lado2 = int(lado2)\n",
    "\n",
    "\n",
    "lado3 = input(\"Dime la longitud del tercer lado del triangulo\")\n",
    "\n",
    "\n",
    "if lado3.isdigit():\n",
    "    lado3 = int(lado3)\n",
    "    \n",
    "else: \n",
    "    while lado3.isdigit() == False:\n",
    "        lado3 = input(\"Necesito que me pases un numero ENTERO\")\n",
    "\n",
    "    lado3 = int(lado3)\n",
    "    \n",
    "\n",
    "# SOLUCIÓN 1\n",
    "if lado1 == lado2 == lado3:\n",
    "    print(\"Triangulo equilatero\")\n",
    "\n",
    "elif lado1 == lado2 or lado1 == lado3 or lado2 == lado3:\n",
    "    print(\"Triangulo isosceles\")\n",
    "\n",
    "else:\n",
    "    print(\"Triangulo escaleno\")\n",
    "    \n",
    "\n",
    "# SOLUCIÓN 2\n",
    "if lado1 == lado2 == lado3:\n",
    "    print(\"Triangulo equilatero\")\n",
    "\n",
    "elif lado1 != lado2 != lado3 and lado1 != lado3:\n",
    "    print(\"Escaleno\")\n",
    "\n",
    "else:\n",
    "    print(\"Isosceles\")"
   ]
  },
  {
   "cell_type": "markdown",
   "id": "ab9784d3",
   "metadata": {},
   "source": [
    "## 2. Conversión de temperatura:"
   ]
  },
  {
   "cell_type": "code",
   "execution_count": null,
   "id": "9ca7dba2",
   "metadata": {},
   "outputs": [
    {
     "name": "stdout",
     "output_type": "stream",
     "text": [
      "38.0°F es igual a 3.3333333333333335°C.\n"
     ]
    }
   ],
   "source": [
    "temperatura = float(input(\"Ingresa la temperatura: \"))\n",
    "unidad = input(\"Ingresa la unidad (C o F): \")\n",
    "\n",
    "if unidad.upper() == \"C\":\n",
    "    fahrenheit = (temperatura * 9/5) + 32\n",
    "    print(f\"{temperatura}°C es igual a {fahrenheit}°F.\")\n",
    "elif unidad.upper() == \"F\":\n",
    "    celsius = (temperatura - 32) * 5/9\n",
    "    print(f\"{temperatura}°F es igual a {celsius}°C.\")\n",
    "else:\n",
    "    print(\"Unidad no válida. Ingresa C o F.\")"
   ]
  },
  {
   "cell_type": "markdown",
   "id": "af44e993",
   "metadata": {},
   "source": [
    "## 3. Cajero automático:"
   ]
  },
  {
   "cell_type": "code",
   "execution_count": 3,
   "id": "01415ee5",
   "metadata": {},
   "outputs": [
    {
     "name": "stdout",
     "output_type": "stream",
     "text": [
      "Tu saldo actual es: $1000\n",
      "Tu saldo actual es: $1100.0\n",
      "Opción no válida. Intenta de nuevo.\n",
      "Tu saldo actual es: $1100.0\n",
      "Opción no válida. Intenta de nuevo.\n",
      "Tu saldo actual es: $1100.0\n"
     ]
    }
   ],
   "source": [
    "\n",
    "# Saldo inicial del cajero automático\n",
    "saldo = 1000\n",
    "\n",
    "# Se ejecuta un bucle infinito que permite al usuario realizar operaciones hasta que decida salir.\n",
    "while True:\n",
    "    # Muestra el saldo actual del usuario.\n",
    "    print(f\"Tu saldo actual es: ${saldo}\")\n",
    "    \n",
    "    # Solicita al usuario que elija una opción: depositar, retirar o salir.\n",
    "    opcion = input(\"¿Qué deseas hacer? (depositar/retirar/salir): \")\n",
    "\n",
    "    # Si el usuario elige depositar, solicita la cantidad a depositar y la suma al saldo.\n",
    "    if opcion.lower() == \"depositar\":\n",
    "        monto = float(input(\"Ingresa la cantidad a depositar: \"))\n",
    "        saldo += monto\n",
    "    \n",
    "    # Si el usuario elige retirar, solicita la cantidad a retirar y la resta del saldo si hay suficiente.\n",
    "    elif opcion.lower() == \"retirar\":\n",
    "        monto = float(input(\"Ingresa la cantidad a retirar: \"))\n",
    "        if monto <= saldo:\n",
    "            saldo -= monto\n",
    "        else:\n",
    "            print(\"Saldo insuficiente.\")\n",
    "    \n",
    "    # Si el usuario elige salir, sale del bucle y termina el programa.\n",
    "    elif opcion.lower() == \"salir\":\n",
    "        break\n",
    "    \n",
    "    # Si el usuario ingresa una opción no válida, muestra un mensaje de error.\n",
    "    else:\n",
    "        print(\"Opción no válida. Intenta de nuevo.\")\n",
    "\n"
   ]
  },
  {
   "cell_type": "markdown",
   "id": "73e0b244",
   "metadata": {},
   "source": [
    "## 4. Calculadora de descuento:"
   ]
  },
  {
   "cell_type": "code",
   "execution_count": 4,
   "id": "5ab24cf1",
   "metadata": {},
   "outputs": [
    {
     "name": "stdout",
     "output_type": "stream",
     "text": [
      "El precio final después del descuento es: $40.00\n",
      "Ahorras: $10.00\n"
     ]
    }
   ],
   "source": [
    "# Solicita al usuario que ingrese el precio original del producto y el porcentaje de descuento.\n",
    "precio_original = float(input(\"Ingresa el precio original del producto: \"))\n",
    "porcentaje_descuento = float(input(\"Ingresa el porcentaje de descuento: \"))\n",
    "\n",
    "# Calcula el descuento restando el porcentaje de descuento del precio original.\n",
    "descuento = precio_original * (porcentaje_descuento / 100)\n",
    "\n",
    "# Calcula el precio final restando el descuento al precio original.\n",
    "precio_final = precio_original - descuento\n",
    "\n",
    "# Muestra el precio final con dos decimales.\n",
    "print(f\"El precio final después del descuento es: ${precio_final:.2f}\")\n",
    "\n",
    "# Muestra el monto de ahorro con dos decimales.\n",
    "print(f\"Ahorras: ${descuento:.2f}\")"
   ]
  },
  {
   "cell_type": "markdown",
   "id": "cdc11ee6",
   "metadata": {},
   "source": [
    "## 5. Cálculo de promedio de calificaciones:"
   ]
  },
  {
   "cell_type": "code",
   "execution_count": 5,
   "id": "0d58c774",
   "metadata": {},
   "outputs": [
    {
     "name": "stdout",
     "output_type": "stream",
     "text": [
      "El promedio de calificaciones es: 4.60\n",
      "No aprobado.\n"
     ]
    }
   ],
   "source": [
    "# Solicita al usuario que ingrese el número de calificaciones que desea promediar.\n",
    "num_calificaciones = int(input(\"Ingrese el número de calificaciones: \"))\n",
    "calificaciones = []\n",
    "\n",
    "# Crea una lista llamada 'calificaciones' para almacenar las calificaciones ingresadas.\n",
    "for _ in range(num_calificaciones):\n",
    "    calificacion = float(input(\"Ingrese una calificación: \"))\n",
    "    calificaciones.append(calificacion)\n",
    "\n",
    "# Calcula el promedio de las calificaciones sumándolas y dividiéndolas por el número de calificaciones.\n",
    "promedio = sum(calificaciones) / num_calificaciones\n",
    "\n",
    "# Muestra el promedio con dos decimales.\n",
    "print(f\"El promedio de calificaciones es: {promedio:.2f}\")\n",
    "\n",
    "# Comprueba si el promedio es mayor o igual a 5 (aprobado) y muestra un mensaje apropiado.\n",
    "if promedio >= 5:\n",
    "    print(\"¡Aprobado!\")\n",
    "else:\n",
    "    print(\"No aprobado.\")"
   ]
  },
  {
   "cell_type": "markdown",
   "id": "b685a13f",
   "metadata": {},
   "source": [
    "## 6. Generador de contraseñas seguras:"
   ]
  },
  {
   "cell_type": "code",
   "execution_count": 6,
   "id": "2ccbe36a",
   "metadata": {},
   "outputs": [
    {
     "name": "stdout",
     "output_type": "stream",
     "text": [
      "Contraseña generada: j.UG^\n"
     ]
    }
   ],
   "source": [
    "import random\n",
    "import string\n",
    "\n",
    "# Solicita al usuario que ingrese la longitud deseada de la contraseña y las preferencias para incluir números, mayúsculas, minúsculas y caracteres especiales.\n",
    "longitud = int(input(\"Ingrese la longitud de la contraseña: \"))\n",
    "usar_numeros = input(\"¿Incluir números? (s/n): \").lower() == \"s\"\n",
    "usar_mayusculas = input(\"¿Incluir letras mayúsculas? (s/n): \").lower() == \"s\"\n",
    "usar_minusculas = input(\"¿Incluir letras minúsculas? (s/n): \").lower() == \"s\"\n",
    "usar_especiales = input(\"¿Incluir caracteres especiales? (s/n): \").lower() == \"s\"\n",
    "\n",
    "caracteres = \"\"\n",
    "\n",
    "# Construye una cadena 'caracteres' que contendrá los caracteres permitidos según las preferencias del usuario.\n",
    "if usar_numeros:\n",
    "    caracteres += string.digits\n",
    "if usar_mayusculas:\n",
    "    caracteres += string.ascii_uppercase\n",
    "if usar_minusculas:\n",
    "    caracteres += string.ascii_lowercase\n",
    "if usar_especiales:\n",
    "    caracteres += string.punctuation\n",
    "\n",
    "# Verifica si el usuario ha seleccionado al menos una opción válida.\n",
    "if not (usar_numeros or usar_mayusculas or usar_minusculas or usar_especiales):\n",
    "    print(\"Debes seleccionar al menos una opción.\")\n",
    "else:\n",
    "    # Genera una contraseña aleatoria utilizando los caracteres permitidos y la longitud especificada.\n",
    "    contraseña = ''.join(random.choice(caracteres) for _ in range(longitud))\n",
    "    print(f\"Contraseña generada: {contraseña}\")\n",
    "\n"
   ]
  },
  {
   "cell_type": "markdown",
   "id": "462a4c2c",
   "metadata": {},
   "source": [
    "## Librería string\n",
    "\n",
    "La biblioteca `string` en Python es un módulo incorporado que proporciona una colección de constantes y funciones relacionadas con caracteres y cadenas. Se utiliza para realizar diversas operaciones y manipulaciones de texto, como formatear cadenas, trabajar con caracteres específicos, verificar propiedades de caracteres, generar secuencias de caracteres y más.\n",
    "\n",
    "Algunas de las utilidades comunes de la biblioteca `string` incluyen:\n",
    "\n",
    "1. Formatear y manipular cadenas de texto.\n",
    "2. Generar contraseñas aleatorias.\n",
    "3. Validar y limpiar datos de entrada, como nombres de archivo o rutas.\n",
    "4. Trabajar con caracteres específicos, como dígitos, letras mayúsculas o minúsculas, y caracteres de puntuación."
   ]
  },
  {
   "cell_type": "markdown",
   "id": "015543f1",
   "metadata": {},
   "source": [
    "## 7. Calculadora de edad de perros:"
   ]
  },
  {
   "cell_type": "code",
   "execution_count": 7,
   "id": "f5eaa694",
   "metadata": {},
   "outputs": [
    {
     "name": "stdout",
     "output_type": "stream",
     "text": [
      "La edad de su perro en años humanos es aproximadamente: 53.0 años\n"
     ]
    }
   ],
   "source": [
    "# Solicita al usuario que ingrese la edad de su perro en años.\n",
    "edad_perro = float(input(\"Ingrese la edad de su perro en años: \"))\n",
    "\n",
    "# Calcula la edad en años humanos según la edad del perro proporcionada.\n",
    "if edad_perro <= 2:\n",
    "    edad_humana = edad_perro * 10.5\n",
    "else:\n",
    "    edad_humana = 21 + (edad_perro - 2) * 4\n",
    "\n",
    "# Muestra la edad del perro en años humanos con un decimal.\n",
    "print(f\"La edad de su perro en años humanos es aproximadamente: {edad_humana:.1f} años\")\n"
   ]
  },
  {
   "cell_type": "markdown",
   "id": "ab4e228c",
   "metadata": {},
   "source": [
    "## 8. Simulador de ruleta:"
   ]
  },
  {
   "cell_type": "code",
   "execution_count": 8,
   "id": "6dec6321",
   "metadata": {},
   "outputs": [
    {
     "name": "stdout",
     "output_type": "stream",
     "text": [
      "El número ganador es: 8\n",
      "Lo siento, perdiste.\n"
     ]
    }
   ],
   "source": [
    "# Solicita al usuario que ingrese la cantidad de dinero a apostar, el número en el que desea apostar y el color en el que desea apostar.\n",
    "monto_apuesta = float(input(\"Ingrese la cantidad de dinero a apostar: \"))\n",
    "numero_apostado = int(input(\"Ingrese el número en el que desea apostar (0-36): \"))\n",
    "color_apostado = input(\"Ingrese el color en el que desea apostar (rojo/negro): \").lower()\n",
    "\n",
    "# Genera un número aleatorio entre 0 y 36 que representa el número ganador en la ruleta.\n",
    "numero_ganador = random.randint(0, 36)\n",
    "\n",
    "# Muestra el número ganador en la ruleta.\n",
    "print(f\"El número ganador es: {numero_ganador}\")\n",
    "\n",
    "# Comprueba si el número apostado coincide con el número ganador.\n",
    "if numero_apostado == numero_ganador:\n",
    "    monto_ganado = monto_apuesta * 36  # El pago es 35 a 1 (36 veces la apuesta original)\n",
    "    print(f\"¡Felicidades! Ganaste ${monto_ganado:.2f}\")\n",
    "    \n",
    "# Comprueba si el color apostado coincide con el color del número ganador (rojo o negro).\n",
    "elif color_apostado == 'rojo' and numero_ganador % 2 == 1:\n",
    "    monto_ganado = monto_apuesta * 2\n",
    "    print(f\"¡Felicidades! Ganaste ${monto_ganado:.2f}\")\n",
    "    \n",
    "elif color_apostado == 'negro' and numero_ganador % 2 == 0:\n",
    "    monto_ganado = monto_apuesta * 2\n",
    "    print(f\"¡Felicidades! Ganaste ${monto_ganado:.2f}\")\n",
    "    \n",
    "# Si no se cumple ninguna de las condiciones anteriores, el jugador pierde su apuesta.\n",
    "else:\n",
    "    print(\"Lo siento, perdiste.\")\n"
   ]
  }
 ],
 "metadata": {
  "kernelspec": {
   "display_name": "base",
   "language": "python",
   "name": "python3"
  },
  "language_info": {
   "codemirror_mode": {
    "name": "ipython",
    "version": 3
   },
   "file_extension": ".py",
   "mimetype": "text/x-python",
   "name": "python",
   "nbconvert_exporter": "python",
   "pygments_lexer": "ipython3",
   "version": "3.12.7"
  }
 },
 "nbformat": 4,
 "nbformat_minor": 5
}
