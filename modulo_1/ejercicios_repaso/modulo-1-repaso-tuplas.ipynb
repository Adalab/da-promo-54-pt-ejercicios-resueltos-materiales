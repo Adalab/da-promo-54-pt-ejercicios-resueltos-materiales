{
 "cells": [
  {
   "cell_type": "markdown",
   "id": "fc15f978",
   "metadata": {},
   "source": [
    "# Tuplas"
   ]
  },
  {
   "cell_type": "code",
   "execution_count": 1,
   "id": "d2f20b2a",
   "metadata": {},
   "outputs": [
    {
     "data": {
      "text/plain": [
       "(1, 2, 3, 4, 5)"
      ]
     },
     "execution_count": 1,
     "metadata": {},
     "output_type": "execute_result"
    }
   ],
   "source": [
    "# 1. Crear una tupla:\n",
    "mi_tupla = (1, 2, 3, 4, 5)\n",
    "mi_tupla"
   ]
  },
  {
   "cell_type": "code",
   "execution_count": 2,
   "id": "90a43002",
   "metadata": {},
   "outputs": [
    {
     "data": {
      "text/plain": [
       "1"
      ]
     },
     "execution_count": 2,
     "metadata": {},
     "output_type": "execute_result"
    }
   ],
   "source": [
    "# 2.Acceder al primer elemento:\n",
    "primer_elemento = mi_tupla[0]\n",
    "primer_elemento"
   ]
  },
  {
   "cell_type": "code",
   "execution_count": 3,
   "id": "b812f9f3",
   "metadata": {},
   "outputs": [
    {
     "data": {
      "text/plain": [
       "5"
      ]
     },
     "execution_count": 3,
     "metadata": {},
     "output_type": "execute_result"
    }
   ],
   "source": [
    "# 3. Acceder al último elemento:\n",
    "ultimo_elemento = mi_tupla[-1]\n",
    "ultimo_elemento"
   ]
  },
  {
   "cell_type": "code",
   "execution_count": 4,
   "id": "64136689",
   "metadata": {},
   "outputs": [
    {
     "data": {
      "text/plain": [
       "(2, 3, 4)"
      ]
     },
     "execution_count": 4,
     "metadata": {},
     "output_type": "execute_result"
    }
   ],
   "source": [
    "# 4. Acceder a un rango de elementos:\n",
    "sub_tupla = mi_tupla[1:4]\n",
    "sub_tupla"
   ]
  },
  {
   "cell_type": "code",
   "execution_count": 5,
   "id": "b6fa1d14",
   "metadata": {},
   "outputs": [
    {
     "data": {
      "text/plain": [
       "(1, 2, 3, 4, 5, 6, 7, 8)"
      ]
     },
     "execution_count": 5,
     "metadata": {},
     "output_type": "execute_result"
    }
   ],
   "source": [
    "# 5. Concatenar dos tuplas:\n",
    "otra_tupla = (6, 7, 8)\n",
    "tupla_concatenada = mi_tupla + otra_tupla\n",
    "tupla_concatenada"
   ]
  },
  {
   "cell_type": "code",
   "execution_count": 6,
   "id": "53d40235",
   "metadata": {},
   "outputs": [
    {
     "data": {
      "text/plain": [
       "8"
      ]
     },
     "execution_count": 6,
     "metadata": {},
     "output_type": "execute_result"
    }
   ],
   "source": [
    "# 6. Encontrar la longitud:\n",
    "longitud = len(tupla_concatenada)\n",
    "longitud"
   ]
  },
  {
   "cell_type": "code",
   "execution_count": 7,
   "id": "3240a17e",
   "metadata": {},
   "outputs": [
    {
     "data": {
      "text/plain": [
       "False"
      ]
     },
     "execution_count": 7,
     "metadata": {},
     "output_type": "execute_result"
    }
   ],
   "source": [
    "# 7. Buscar un elemento: \n",
    "elemento_buscado = \"manzana\"\n",
    "esta_presente = elemento_buscado in mi_tupla\n",
    "esta_presente"
   ]
  },
  {
   "cell_type": "code",
   "execution_count": 8,
   "id": "15af2dce",
   "metadata": {},
   "outputs": [
    {
     "data": {
      "text/plain": [
       "0"
      ]
     },
     "execution_count": 8,
     "metadata": {},
     "output_type": "execute_result"
    }
   ],
   "source": [
    "# 8. Contar elementos: \n",
    "elemento_contar = \"pera\"\n",
    "contador = mi_tupla.count(elemento_contar) \n",
    "contador"
   ]
  },
  {
   "cell_type": "code",
   "execution_count": 9,
   "id": "2a9d4e25",
   "metadata": {},
   "outputs": [
    {
     "name": "stdout",
     "output_type": "stream",
     "text": [
      "Juan\n",
      "Pérez\n"
     ]
    }
   ],
   "source": [
    "# 9. Desempaquetar una tupla: \n",
    "nombre_apellido = (\"Juan\", \"Pérez\")\n",
    "nombre, apellido = nombre_apellido\n",
    "print(nombre)\n",
    "print(apellido)"
   ]
  },
  {
   "cell_type": "code",
   "execution_count": 10,
   "id": "109a454a",
   "metadata": {},
   "outputs": [
    {
     "data": {
      "text/plain": [
       "(10, 20, 30)"
      ]
     },
     "execution_count": 10,
     "metadata": {},
     "output_type": "execute_result"
    }
   ],
   "source": [
    "# 10. Convertir una lista en tupla:\n",
    "lista_numeros = [10, 20, 30]\n",
    "tupla_desde_lista = tuple(lista_numeros)\n",
    "tupla_desde_lista"
   ]
  }
 ],
 "metadata": {
  "kernelspec": {
   "display_name": "base",
   "language": "python",
   "name": "python3"
  },
  "language_info": {
   "codemirror_mode": {
    "name": "ipython",
    "version": 3
   },
   "file_extension": ".py",
   "mimetype": "text/x-python",
   "name": "python",
   "nbconvert_exporter": "python",
   "pygments_lexer": "ipython3",
   "version": "3.12.7"
  }
 },
 "nbformat": 4,
 "nbformat_minor": 5
}
