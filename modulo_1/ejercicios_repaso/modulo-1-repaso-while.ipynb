{
 "cells": [
  {
   "cell_type": "markdown",
   "id": "f1557c78",
   "metadata": {},
   "source": [
    "# while"
   ]
  },
  {
   "cell_type": "markdown",
   "id": "5dbca675",
   "metadata": {},
   "source": [
    "## 1. Contador Regresivo:"
   ]
  },
  {
   "cell_type": "code",
   "execution_count": 1,
   "id": "fb094b6a",
   "metadata": {},
   "outputs": [
    {
     "name": "stdout",
     "output_type": "stream",
     "text": [
      "10\n",
      "9\n",
      "8\n",
      "7\n",
      "6\n",
      "5\n",
      "4\n",
      "3\n",
      "2\n",
      "1\n",
      "0\n"
     ]
    }
   ],
   "source": [
    "# Solicita al usuario que ingrese un número para contar hacia abajo.\n",
    "numero = int(input(\"Ingresa un número para contar hacia abajo: \"))\n",
    "\n",
    "# Inicia un bucle while que se ejecutará mientras el número sea mayor o igual a 0.\n",
    "while numero >= 0:\n",
    "    # Imprime el valor actual de 'numero'.\n",
    "    print(numero)\n",
    "    \n",
    "    # Resta 1 al valor de 'numero' en cada iteración para contar hacia abajo.\n",
    "    numero -= 1\n"
   ]
  },
  {
   "cell_type": "markdown",
   "id": "ee686a3c",
   "metadata": {},
   "source": [
    "## 2. Adivina el Número:"
   ]
  },
  {
   "cell_type": "code",
   "execution_count": 2,
   "id": "79cef6cb",
   "metadata": {},
   "outputs": [
    {
     "name": "stdout",
     "output_type": "stream",
     "text": [
      "El número es mayor. Intenta nuevamente.\n",
      "El número es menor. Intenta nuevamente.\n",
      "El número es mayor. Intenta nuevamente.\n",
      "¡Correcto! Adivinaste el número en 4 intentos.\n"
     ]
    }
   ],
   "source": [
    "\n",
    "import random\n",
    "\n",
    "# Genera un número aleatorio entre 1 y 20 que el usuario debe adivinar.\n",
    "numero_aleatorio = random.randint(1, 20)\n",
    "intentos = 0  # Inicializa el contador de intentos en 0.\n",
    "\n",
    "# Inicia un bucle while que se ejecutará hasta que el usuario adivine el número.\n",
    "while True:\n",
    "    intento = int(input(\"Adivina el número (entre 1 y 20): \"))  # Solicita un intento al usuario.\n",
    "    intentos += 1  # Incrementa el contador de intentos en cada intento.\n",
    "\n",
    "    # Comprueba si el intento del usuario coincide con el número aleatorio.\n",
    "    if intento == numero_aleatorio:\n",
    "        print(f\"¡Correcto! Adivinaste el número en {intentos} intentos.\")\n",
    "        break  # Sale del bucle ya que el usuario adivinó el número.\n",
    "    elif intento < numero_aleatorio:\n",
    "        print(\"El número es mayor. Intenta nuevamente.\")\n",
    "    else:\n",
    "        print(\"El número es menor. Intenta nuevamente.\")\n"
   ]
  },
  {
   "cell_type": "markdown",
   "id": "bd123ab3",
   "metadata": {},
   "source": [
    "## 3. Calculadora Simple:"
   ]
  },
  {
   "cell_type": "code",
   "execution_count": 5,
   "id": "158f8d34",
   "metadata": {},
   "outputs": [],
   "source": [
    "while True:\n",
    "    \n",
    "    operador = input(\"Ingresa un operador (+, -, *, /) o 'q' para salir: \")\n",
    "    \n",
    "    if operador.lower() == 'q':\n",
    "        break\n",
    "    \n",
    "    # Solicita al usuario que ingrese un operador o 'q' para salir.\n",
    "\n",
    "    # Si el usuario ingresa 'q', sale del bucle.\n",
    "    \n",
    "    num1 = float(input(\"Ingresa el primer número: \"))  # Solicita al usuario que ingrese el primer número.\n",
    "\n",
    "\n",
    "    num2 = float(input(\"Ingresa el segundo número: \"))  # Solicita al usuario que ingrese el segundo número.\n",
    "\n",
    "    if operador == '+':\n",
    "        resultado = num1 + num2\n",
    "    elif operador == '-':\n",
    "        resultado = num1 - num2\n",
    "    elif operador == '*':\n",
    "        resultado = num1 * num2\n",
    "    elif operador == '/':\n",
    "        if num2 == 0:\n",
    "            print(\"Error: No se puede dividir por cero.\")\n",
    "            continue  # Si el denominador es cero, muestra un error y continúa al siguiente ciclo del bucle.\n",
    "        resultado = num1 / num2\n",
    "    else:\n",
    "        print(\"Operador no válido. Intenta nuevamente.\")\n",
    "        continue  # Si el operador no es válido, muestra un error y continúa al siguiente ciclo del bucle.\n",
    "\n",
    "    print(f\"Resultado: {resultado}\")  # Muestra el resultado del cálculo al usuario.\n",
    "\n",
    "\n"
   ]
  },
  {
   "cell_type": "markdown",
   "id": "53688b66",
   "metadata": {},
   "source": [
    "## 4. Conversión de Unidades:"
   ]
  },
  {
   "cell_type": "code",
   "execution_count": null,
   "id": "55b750d4",
   "metadata": {},
   "outputs": [
    {
     "name": "stdout",
     "output_type": "stream",
     "text": [
      "40.0 grados Celsius son equivalentes a 104.0 grados Fahrenheit.\n",
      "Opción no válida. Intenta nuevamente.\n"
     ]
    }
   ],
   "source": [
    "# Se inicia un bucle while que se ejecutará indefinidamente hasta que el usuario elija salir.\n",
    "opt = True\n",
    "while opt == True:\n",
    "    # Se solicita al usuario que elija una conversión o salir.\n",
    "    opcion = input(\"Elige una conversión (1: Celsius a Fahrenheit, 2: Kilómetros a Millas, q: Salir): \")\n",
    "\n",
    "    if opcion.lower() == 'q':\n",
    "        #break  # Si el usuario ingresa 'q', el programa sale del bucle y finaliza.\n",
    "        opt = False\n",
    "    if opcion == '1':\n",
    "        # Si el usuario elige la conversión de Celsius a Fahrenheit, se solicita la temperatura en grados Celsius.\n",
    "        celsius = float(input(\"Ingresa la temperatura en grados Celsius: \"))\n",
    "        \n",
    "        # Se realiza la conversión y se muestra el resultado.\n",
    "        fahrenheit = (celsius * 9/5) + 32\n",
    "        print(f\"{celsius} grados Celsius son equivalentes a {fahrenheit} grados Fahrenheit.\")\n",
    "    elif opcion == '2':\n",
    "        # Si el usuario elige la conversión de kilómetros a millas, se solicita la distancia en kilómetros.\n",
    "        kilometros = float(input(\"Ingresa la distancia en kilómetros: \"))\n",
    "        \n",
    "        # Se realiza la conversión y se muestra el resultado.\n",
    "        millas = kilometros * 0.621371\n",
    "        print(f\"{kilometros} kilómetros son equivalentes a {millas} millas.\")\n",
    "    else:\n",
    "        print(\"Opción no válida. Intenta nuevamente.\")  # Si la opción no es válida, muestra un mensaje de error y continúa el bucle.\n",
    "\n",
    "# El programa finaliza cuando el usuario elige salir ('q').\n"
   ]
  }
 ],
 "metadata": {
  "kernelspec": {
   "display_name": "base",
   "language": "python",
   "name": "python3"
  },
  "language_info": {
   "codemirror_mode": {
    "name": "ipython",
    "version": 3
   },
   "file_extension": ".py",
   "mimetype": "text/x-python",
   "name": "python",
   "nbconvert_exporter": "python",
   "pygments_lexer": "ipython3",
   "version": "3.12.7"
  }
 },
 "nbformat": 4,
 "nbformat_minor": 5
}
