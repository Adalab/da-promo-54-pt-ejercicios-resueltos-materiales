{
 "cells": [
  {
   "cell_type": "markdown",
   "id": "13a92d53",
   "metadata": {},
   "source": [
    "# Diccionarios\n"
   ]
  },
  {
   "cell_type": "code",
   "execution_count": 1,
   "id": "22e3f162",
   "metadata": {},
   "outputs": [
    {
     "data": {
      "text/plain": [
       "{'apellido': 'Lopez'}"
      ]
     },
     "execution_count": 1,
     "metadata": {},
     "output_type": "execute_result"
    }
   ],
   "source": [
    "# 1. Crear un diccionario:\n",
    "mi_diccionario = {\"apellido\": \"Lopez\"}\n",
    "mi_diccionario"
   ]
  },
  {
   "cell_type": "code",
   "execution_count": 2,
   "id": "190e38b7",
   "metadata": {},
   "outputs": [
    {
     "data": {
      "text/plain": [
       "{'apellido': 'Lopez', 'nombre': 'Juan'}"
      ]
     },
     "execution_count": 2,
     "metadata": {},
     "output_type": "execute_result"
    }
   ],
   "source": [
    "# 2. Agregar elementos:\n",
    "mi_diccionario[\"nombre\"] = \"Juan\"\n",
    "mi_diccionario"
   ]
  },
  {
   "cell_type": "code",
   "execution_count": 3,
   "id": "47929ecc",
   "metadata": {},
   "outputs": [
    {
     "data": {
      "text/plain": [
       "'Juan'"
      ]
     },
     "execution_count": 3,
     "metadata": {},
     "output_type": "execute_result"
    }
   ],
   "source": [
    "# 3. Acceder a un valor:\n",
    "valor = mi_diccionario[\"nombre\"]\n",
    "valor"
   ]
  },
  {
   "cell_type": "code",
   "execution_count": 4,
   "id": "0b9bbfac",
   "metadata": {},
   "outputs": [
    {
     "data": {
      "text/plain": [
       "{'apellido': 'Lopez', 'nombre': 'Ana'}"
      ]
     },
     "execution_count": 4,
     "metadata": {},
     "output_type": "execute_result"
    }
   ],
   "source": [
    "# 4. Modificar un valor:\n",
    "\n",
    "mi_diccionario[\"nombre\"] = \"Ana\"\n",
    "mi_diccionario"
   ]
  },
  {
   "cell_type": "code",
   "execution_count": 5,
   "id": "66013fe7",
   "metadata": {},
   "outputs": [
    {
     "data": {
      "text/plain": [
       "{'apellido': 'Lopez'}"
      ]
     },
     "execution_count": 5,
     "metadata": {},
     "output_type": "execute_result"
    }
   ],
   "source": [
    "# 5. Eliminar un elemento:\n",
    "del mi_diccionario[\"nombre\"]\n",
    "mi_diccionario"
   ]
  },
  {
   "cell_type": "code",
   "execution_count": 6,
   "id": "d3dc262d",
   "metadata": {},
   "outputs": [
    {
     "data": {
      "text/plain": [
       "True"
      ]
     },
     "execution_count": 6,
     "metadata": {},
     "output_type": "execute_result"
    }
   ],
   "source": [
    "# 6. Verificar existencia:\n",
    "existe_apellido = \"apellido\" in mi_diccionario\n",
    "existe_apellido"
   ]
  },
  {
   "cell_type": "code",
   "execution_count": 7,
   "id": "1c845ef8",
   "metadata": {},
   "outputs": [
    {
     "data": {
      "text/plain": [
       "['apellido']"
      ]
     },
     "execution_count": 7,
     "metadata": {},
     "output_type": "execute_result"
    }
   ],
   "source": [
    "# 7. Obtener todas las claves:\n",
    "\n",
    "claves = list(mi_diccionario.keys())\n",
    "claves\n"
   ]
  },
  {
   "cell_type": "code",
   "execution_count": 8,
   "id": "b55bc900",
   "metadata": {},
   "outputs": [
    {
     "data": {
      "text/plain": [
       "['Lopez']"
      ]
     },
     "execution_count": 8,
     "metadata": {},
     "output_type": "execute_result"
    }
   ],
   "source": [
    "# 8. Obtener todos los valores:\n",
    "valores = list(mi_diccionario.values())\n",
    "valores"
   ]
  },
  {
   "cell_type": "code",
   "execution_count": 9,
   "id": "7ae08423",
   "metadata": {},
   "outputs": [
    {
     "name": "stdout",
     "output_type": "stream",
     "text": [
      "apellido Lopez\n"
     ]
    }
   ],
   "source": [
    "# 9. Recorrer el diccionario:\n",
    "\n",
    "for clave, valor in mi_diccionario.items():\n",
    "    print(clave, valor)"
   ]
  },
  {
   "cell_type": "code",
   "execution_count": 10,
   "id": "6b5dde22",
   "metadata": {},
   "outputs": [
    {
     "data": {
      "text/plain": [
       "1"
      ]
     },
     "execution_count": 10,
     "metadata": {},
     "output_type": "execute_result"
    }
   ],
   "source": [
    "# 10. Longitud del diccionario:\n",
    "\n",
    "longitud = len(mi_diccionario)\n",
    "longitud"
   ]
  },
  {
   "cell_type": "code",
   "execution_count": 11,
   "id": "f2c9559f",
   "metadata": {},
   "outputs": [
    {
     "data": {
      "text/plain": [
       "{'apellido': 'Lopez'}"
      ]
     },
     "execution_count": 11,
     "metadata": {},
     "output_type": "execute_result"
    }
   ],
   "source": [
    "# 11. Copiar un diccionario:\n",
    "\n",
    "copia_diccionario = mi_diccionario.copy()\n",
    "copia_diccionario"
   ]
  },
  {
   "cell_type": "code",
   "execution_count": 12,
   "id": "ff0d3003",
   "metadata": {},
   "outputs": [
    {
     "data": {
      "text/plain": [
       "{}"
      ]
     },
     "execution_count": 12,
     "metadata": {},
     "output_type": "execute_result"
    }
   ],
   "source": [
    "# 12. Eliminar elementos:\n",
    "copia_diccionario.clear()\n",
    "copia_diccionario"
   ]
  },
  {
   "cell_type": "code",
   "execution_count": 13,
   "id": "4886286e",
   "metadata": {},
   "outputs": [],
   "source": [
    "# 13. Combinar diccionarios:\n",
    "\n",
    "diccionario_combinado = mi_diccionario.update(copia_diccionario)\n",
    "diccionario_combinado\n"
   ]
  },
  {
   "cell_type": "code",
   "execution_count": 14,
   "id": "f5c46069",
   "metadata": {},
   "outputs": [
    {
     "data": {
      "text/plain": [
       "'Desconocida'"
      ]
     },
     "execution_count": 14,
     "metadata": {},
     "output_type": "execute_result"
    }
   ],
   "source": [
    "# 14. Obtener valor predeterminado:\n",
    "\n",
    "edad = mi_diccionario.get(\"edad\", \"Desconocida\")\n",
    "edad"
   ]
  },
  {
   "cell_type": "code",
   "execution_count": 15,
   "id": "6f53e2fe",
   "metadata": {},
   "outputs": [
    {
     "data": {
      "text/plain": [
       "'b'"
      ]
     },
     "execution_count": 15,
     "metadata": {},
     "output_type": "execute_result"
    }
   ],
   "source": [
    "# 15. Clave máxima:\n",
    "\n",
    "diccionario_numerico = {\"a\": 5, \"b\": 10, \"c\": 3}\n",
    "clave_maxima = max(diccionario_numerico, key=diccionario_numerico.get)\n",
    "clave_maxima\n"
   ]
  },
  {
   "cell_type": "code",
   "execution_count": 16,
   "id": "beeba799",
   "metadata": {},
   "outputs": [
    {
     "data": {
      "text/plain": [
       "10"
      ]
     },
     "execution_count": 16,
     "metadata": {},
     "output_type": "execute_result"
    }
   ],
   "source": [
    "max(diccionario_numerico.values())"
   ]
  }
 ],
 "metadata": {
  "kernelspec": {
   "display_name": "base",
   "language": "python",
   "name": "python3"
  },
  "language_info": {
   "codemirror_mode": {
    "name": "ipython",
    "version": 3
   },
   "file_extension": ".py",
   "mimetype": "text/x-python",
   "name": "python",
   "nbconvert_exporter": "python",
   "pygments_lexer": "ipython3",
   "version": "3.12.7"
  }
 },
 "nbformat": 4,
 "nbformat_minor": 5
}
