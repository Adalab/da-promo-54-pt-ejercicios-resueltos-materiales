{
 "cells": [
  {
   "cell_type": "markdown",
   "id": "f694e497",
   "metadata": {},
   "source": [
    "# Sets"
   ]
  },
  {
   "cell_type": "code",
   "execution_count": 1,
   "id": "35698feb",
   "metadata": {},
   "outputs": [
    {
     "data": {
      "text/plain": [
       "set()"
      ]
     },
     "execution_count": 1,
     "metadata": {},
     "output_type": "execute_result"
    }
   ],
   "source": [
    "# 1. Crear un conjunto vacío:\n",
    "mi_set = set()\n",
    "mi_set"
   ]
  },
  {
   "cell_type": "code",
   "execution_count": 2,
   "id": "a1ffc765",
   "metadata": {},
   "outputs": [
    {
     "data": {
      "text/plain": [
       "{1, 2, 3}"
      ]
     },
     "execution_count": 2,
     "metadata": {},
     "output_type": "execute_result"
    }
   ],
   "source": [
    "# 2. Agregar elementos a un conjunto: \n",
    "mi_set.add(1)\n",
    "mi_set.add(2)\n",
    "mi_set.add(3)\n",
    "\n",
    "mi_set"
   ]
  },
  {
   "cell_type": "code",
   "execution_count": 3,
   "id": "376e028c",
   "metadata": {},
   "outputs": [
    {
     "data": {
      "text/plain": [
       "{1, 3}"
      ]
     },
     "execution_count": 3,
     "metadata": {},
     "output_type": "execute_result"
    }
   ],
   "source": [
    "# 3. Eliminar elementos de un conjunto:\n",
    "mi_set.remove(2)\n",
    "mi_set"
   ]
  },
  {
   "cell_type": "code",
   "execution_count": 4,
   "id": "5f006c7e",
   "metadata": {},
   "outputs": [
    {
     "data": {
      "text/plain": [
       "True"
      ]
     },
     "execution_count": 4,
     "metadata": {},
     "output_type": "execute_result"
    }
   ],
   "source": [
    "# 4. Verificar pertenencia:\n",
    "existe = 3 in mi_set\n",
    "existe"
   ]
  },
  {
   "cell_type": "code",
   "execution_count": 5,
   "id": "c6f8cde2",
   "metadata": {},
   "outputs": [
    {
     "data": {
      "text/plain": [
       "{3, 4, 5}"
      ]
     },
     "execution_count": 5,
     "metadata": {},
     "output_type": "execute_result"
    }
   ],
   "source": [
    "# 5. Operaciones de conjuntos:\n",
    "set1 = {1, 2, 3, 4, 5}\n",
    "set2 = {3, 4, 5, 6, 7}\n",
    "interseccion = set1.intersection(set2)\n",
    "interseccion"
   ]
  },
  {
   "cell_type": "code",
   "execution_count": 6,
   "id": "19bb091a",
   "metadata": {},
   "outputs": [
    {
     "data": {
      "text/plain": [
       "{1, 2, 3, 4, 5, 6, 7}"
      ]
     },
     "execution_count": 6,
     "metadata": {},
     "output_type": "execute_result"
    }
   ],
   "source": [
    "# 6. Unión de conjuntos:\n",
    "union = set1.union(set2)\n",
    "union\n"
   ]
  },
  {
   "cell_type": "code",
   "execution_count": 7,
   "id": "0a21c966",
   "metadata": {},
   "outputs": [
    {
     "data": {
      "text/plain": [
       "{1, 2}"
      ]
     },
     "execution_count": 7,
     "metadata": {},
     "output_type": "execute_result"
    }
   ],
   "source": [
    "# 7. Diferencia de conjuntos:\n",
    "diferencia = set1.difference(set2)\n",
    "diferencia"
   ]
  },
  {
   "cell_type": "code",
   "execution_count": 8,
   "id": "c112b0c7",
   "metadata": {},
   "outputs": [
    {
     "data": {
      "text/plain": [
       "False"
      ]
     },
     "execution_count": 8,
     "metadata": {},
     "output_type": "execute_result"
    }
   ],
   "source": [
    "# 8. Comparación de conjuntos:\n",
    "es_subconjunto = set1.issubset(set2)\n",
    "es_subconjunto"
   ]
  },
  {
   "cell_type": "code",
   "execution_count": 9,
   "id": "e13fedfd",
   "metadata": {},
   "outputs": [
    {
     "data": {
      "text/plain": [
       "{1, 2, 3, 4, 5}"
      ]
     },
     "execution_count": 9,
     "metadata": {},
     "output_type": "execute_result"
    }
   ],
   "source": [
    "# 9. Eliminar elementos duplicados:\n",
    "\n",
    "mi_lista = [1, 2, 2, 3, 4, 4, 5]\n",
    "mi_conjunto = set(mi_lista)\n",
    "mi_conjunto"
   ]
  },
  {
   "cell_type": "code",
   "execution_count": 10,
   "id": "f77520f2",
   "metadata": {},
   "outputs": [
    {
     "data": {
      "text/plain": [
       "False"
      ]
     },
     "execution_count": 10,
     "metadata": {},
     "output_type": "execute_result"
    }
   ],
   "source": [
    "# 10. Comprobar igualdad de conjuntos:\n",
    "\n",
    "son_iguales = set1 == set2\n",
    "son_iguales"
   ]
  }
 ],
 "metadata": {
  "kernelspec": {
   "display_name": "base",
   "language": "python",
   "name": "python3"
  },
  "language_info": {
   "codemirror_mode": {
    "name": "ipython",
    "version": 3
   },
   "file_extension": ".py",
   "mimetype": "text/x-python",
   "name": "python",
   "nbconvert_exporter": "python",
   "pygments_lexer": "ipython3",
   "version": "3.12.7"
  }
 },
 "nbformat": 4,
 "nbformat_minor": 5
}
