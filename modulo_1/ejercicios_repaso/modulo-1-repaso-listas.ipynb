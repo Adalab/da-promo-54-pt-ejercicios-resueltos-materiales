{
 "cells": [
  {
   "cell_type": "markdown",
   "id": "bd6f5571",
   "metadata": {},
   "source": [
    "# Listas"
   ]
  },
  {
   "cell_type": "code",
   "execution_count": 1,
   "id": "9b081d7b",
   "metadata": {},
   "outputs": [],
   "source": [
    "# 1. Crear una lista: Crea una lista con cinco colores diferentes.\n",
    "colores = [\"rojo\", \"verde\", \"azul\", \"amarillo\", \"naranja\"]"
   ]
  },
  {
   "cell_type": "code",
   "execution_count": 2,
   "id": "0ab0c378",
   "metadata": {},
   "outputs": [
    {
     "data": {
      "text/plain": [
       "'azul'"
      ]
     },
     "execution_count": 2,
     "metadata": {},
     "output_type": "execute_result"
    }
   ],
   "source": [
    "# 2. Acceder a elementos: Accede al tercer elemento de la lista de colores.\n",
    "tercer_color = colores[2]\n",
    "tercer_color"
   ]
  },
  {
   "cell_type": "code",
   "execution_count": 3,
   "id": "cc572a34",
   "metadata": {},
   "outputs": [
    {
     "data": {
      "text/plain": [
       "['rojo', 'blanco', 'azul', 'amarillo', 'naranja']"
      ]
     },
     "execution_count": 3,
     "metadata": {},
     "output_type": "execute_result"
    }
   ],
   "source": [
    "# 3.Modificar elementos: Cambia el segundo color de la lista por otro de tu elección.\n",
    "colores[1] = \"blanco\" \n",
    "colores"
   ]
  },
  {
   "cell_type": "code",
   "execution_count": 4,
   "id": "91f883f6",
   "metadata": {},
   "outputs": [
    {
     "data": {
      "text/plain": [
       "['rojo', 'blanco', 'azul', 'rosa', 'amarillo', 'naranja', 'negro']"
      ]
     },
     "execution_count": 4,
     "metadata": {},
     "output_type": "execute_result"
    }
   ],
   "source": [
    "# 4. Agregar elementos: Agrega dos colores nuevos a la lista.\n",
    "colores.append(\"negro\")  # Agrega \"negro\" al final de la lista\n",
    "colores.insert(3, \"rosa\")  # Agrega \"rosa\" en la posición 3\n",
    "colores"
   ]
  },
  {
   "cell_type": "code",
   "execution_count": 5,
   "id": "86a38ca7",
   "metadata": {},
   "outputs": [
    {
     "data": {
      "text/plain": [
       "['rojo', 'blanco', 'azul', 'amarillo', 'naranja', 'negro']"
      ]
     },
     "execution_count": 5,
     "metadata": {},
     "output_type": "execute_result"
    }
   ],
   "source": [
    "# 5. Eliminar elementos: Elimina el cuarto color de la lista.\n",
    "colores.pop(3) \n",
    "colores"
   ]
  },
  {
   "cell_type": "code",
   "execution_count": 6,
   "id": "2a32aac8",
   "metadata": {},
   "outputs": [
    {
     "data": {
      "text/plain": [
       "6"
      ]
     },
     "execution_count": 6,
     "metadata": {},
     "output_type": "execute_result"
    }
   ],
   "source": [
    "# 6. Longitud de la lista: Encuentra la longitud de la lista de colores.\n",
    "longitud = len(colores)\n",
    "longitud"
   ]
  },
  {
   "cell_type": "code",
   "execution_count": 7,
   "id": "d6aa8086",
   "metadata": {},
   "outputs": [
    {
     "data": {
      "text/plain": [
       "['amarillo', 'azul', 'blanco', 'naranja', 'negro', 'rojo']"
      ]
     },
     "execution_count": 7,
     "metadata": {},
     "output_type": "execute_result"
    }
   ],
   "source": [
    "# 7. Ordenar la lista: Ordena la lista de colores en orden alfabético.\n",
    "colores.sort() \n",
    "colores"
   ]
  },
  {
   "cell_type": "code",
   "execution_count": 8,
   "id": "d5f6eb8d",
   "metadata": {},
   "outputs": [
    {
     "data": {
      "text/plain": [
       "[['manzana', 'pera', 'plátano'], ['fresa', 'uva', 'mango']]"
      ]
     },
     "execution_count": 8,
     "metadata": {},
     "output_type": "execute_result"
    }
   ],
   "source": [
    "# 8. Listas anidadas: Crea una lista de dos sublistas, cada una con tres nombres de frutas.\n",
    "frutas = [[\"manzana\", \"pera\", \"plátano\"], [\"fresa\", \"uva\", \"mango\"]]\n",
    "frutas\n"
   ]
  },
  {
   "cell_type": "code",
   "execution_count": 9,
   "id": "6832e565",
   "metadata": {},
   "outputs": [
    {
     "data": {
      "text/plain": [
       "['manzana', 'pera', 'plátano', 'fresa', 'uva', 'mango']"
      ]
     },
     "execution_count": 9,
     "metadata": {},
     "output_type": "execute_result"
    }
   ],
   "source": [
    "# 9. Concatenar listas: Concatena las dos sublistas en una sola lista de frutas.\n",
    "lista_de_frutas = frutas[0] + frutas[1]\n",
    "lista_de_frutas"
   ]
  },
  {
   "cell_type": "code",
   "execution_count": 10,
   "id": "fe882e13",
   "metadata": {},
   "outputs": [
    {
     "data": {
      "text/plain": [
       "['manzana',\n",
       " 'pera',\n",
       " 'plátano',\n",
       " 'fresa',\n",
       " 'uva',\n",
       " 'mango',\n",
       " 'manzana',\n",
       " 'pera',\n",
       " 'plátano',\n",
       " 'fresa',\n",
       " 'uva',\n",
       " 'mango',\n",
       " 'manzana',\n",
       " 'pera',\n",
       " 'plátano',\n",
       " 'fresa',\n",
       " 'uva',\n",
       " 'mango']"
      ]
     },
     "execution_count": 10,
     "metadata": {},
     "output_type": "execute_result"
    }
   ],
   "source": [
    "# 10. Repetir elementos: Repite la lista de frutas tres veces para obtener una lista más larga.\n",
    "lista_repetida = lista_de_frutas * 3\n",
    "lista_repetida"
   ]
  },
  {
   "cell_type": "code",
   "execution_count": 11,
   "id": "61c896b4",
   "metadata": {},
   "outputs": [
    {
     "data": {
      "text/plain": [
       "['manzana', 'pera', 'plátano']"
      ]
     },
     "execution_count": 11,
     "metadata": {},
     "output_type": "execute_result"
    }
   ],
   "source": [
    "# 11. Acceder a la primera lista de frutas:\n",
    "primera_lista = frutas[0]\n",
    "primera_lista"
   ]
  },
  {
   "cell_type": "code",
   "execution_count": 12,
   "id": "7006ff82",
   "metadata": {},
   "outputs": [
    {
     "data": {
      "text/plain": [
       "['fresa', 'uva', 'mango']"
      ]
     },
     "execution_count": 12,
     "metadata": {},
     "output_type": "execute_result"
    }
   ],
   "source": [
    "# 12. Acceder a la segunda lista de frutas:\n",
    "segunda_lista = frutas[1]\n",
    "segunda_lista"
   ]
  },
  {
   "cell_type": "code",
   "execution_count": 13,
   "id": "f1c2aa17",
   "metadata": {},
   "outputs": [
    {
     "data": {
      "text/plain": [
       "'manzana'"
      ]
     },
     "execution_count": 13,
     "metadata": {},
     "output_type": "execute_result"
    }
   ],
   "source": [
    "# 13. Acceder a la primera fruta de la primera lista:\n",
    "primera_fruta = frutas[0][0]\n",
    "primera_fruta"
   ]
  },
  {
   "cell_type": "code",
   "execution_count": 14,
   "id": "c1356c92",
   "metadata": {},
   "outputs": [
    {
     "data": {
      "text/plain": [
       "'mango'"
      ]
     },
     "execution_count": 14,
     "metadata": {},
     "output_type": "execute_result"
    }
   ],
   "source": [
    "#14. Acceder a la última fruta de la segunda lista:\n",
    "ultima_fruta = frutas[1][-1]\n",
    "ultima_fruta"
   ]
  },
  {
   "cell_type": "code",
   "execution_count": 15,
   "id": "7d570e74",
   "metadata": {},
   "outputs": [
    {
     "data": {
      "text/plain": [
       "'pera'"
      ]
     },
     "execution_count": 15,
     "metadata": {},
     "output_type": "execute_result"
    }
   ],
   "source": [
    "# 15. Acceder a la segunda fruta de la primera lista:\n",
    "segunda_fruta = frutas[0][1]\n",
    "segunda_fruta"
   ]
  },
  {
   "cell_type": "code",
   "execution_count": 16,
   "id": "de9cb24e",
   "metadata": {},
   "outputs": [
    {
     "data": {
      "text/plain": [
       "'plátano'"
      ]
     },
     "execution_count": 16,
     "metadata": {},
     "output_type": "execute_result"
    }
   ],
   "source": [
    "# 16. Acceder a la última fruta de la primera lista:\n",
    "ultima_fruta_primera_lista = frutas[0][-1]\n",
    "ultima_fruta_primera_lista"
   ]
  },
  {
   "cell_type": "code",
   "execution_count": 17,
   "id": "6fe2d98c",
   "metadata": {},
   "outputs": [
    {
     "data": {
      "text/plain": [
       "3"
      ]
     },
     "execution_count": 17,
     "metadata": {},
     "output_type": "execute_result"
    }
   ],
   "source": [
    "# 17. Acceder a la longitud de la segunda lista de frutas:\n",
    "longitud_segunda_lista = len(frutas[1])\n",
    "longitud_segunda_lista"
   ]
  },
  {
   "cell_type": "code",
   "execution_count": 18,
   "id": "b4ca072f",
   "metadata": {},
   "outputs": [
    {
     "data": {
      "text/plain": [
       "['fresa', 'uva']"
      ]
     },
     "execution_count": 18,
     "metadata": {},
     "output_type": "execute_result"
    }
   ],
   "source": [
    "# 18. Acceder a una porción de la segunda lista (slicing):\n",
    "porcion_segunda_lista = frutas[1][:2]\n",
    "porcion_segunda_lista"
   ]
  },
  {
   "cell_type": "code",
   "execution_count": 19,
   "id": "9dcacf6f",
   "metadata": {},
   "outputs": [
    {
     "data": {
      "text/plain": [
       "[['manzana', 'pera', 'plátano'], ['fresa', 'ciruela', 'mango']]"
      ]
     },
     "execution_count": 19,
     "metadata": {},
     "output_type": "execute_result"
    }
   ],
   "source": [
    "#19. Cambiar la segunda fruta de la segunda lista:\n",
    "frutas[1][1] = \"ciruela\"\n",
    "frutas"
   ]
  },
  {
   "cell_type": "code",
   "execution_count": 20,
   "id": "633c4cb6",
   "metadata": {},
   "outputs": [
    {
     "data": {
      "text/plain": [
       "[['manzana', 'pera', 'plátano', 'kiwi'], ['fresa', 'ciruela', 'mango']]"
      ]
     },
     "execution_count": 20,
     "metadata": {},
     "output_type": "execute_result"
    }
   ],
   "source": [
    "# 20. Agregar una nueva fruta a la primera lista:\n",
    "frutas[0].append(\"kiwi\")\n",
    "frutas"
   ]
  }
 ],
 "metadata": {
  "kernelspec": {
   "display_name": "base",
   "language": "python",
   "name": "python3"
  },
  "language_info": {
   "codemirror_mode": {
    "name": "ipython",
    "version": 3
   },
   "file_extension": ".py",
   "mimetype": "text/x-python",
   "name": "python",
   "nbconvert_exporter": "python",
   "pygments_lexer": "ipython3",
   "version": "3.12.7"
  }
 },
 "nbformat": 4,
 "nbformat_minor": 5
}
